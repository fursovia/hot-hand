{
 "cells": [
  {
   "cell_type": "markdown",
   "metadata": {},
   "source": [
    "# Решающие деревья\n",
    "В этой части анализа я полностью разберусь в алгоритме решающих деревьев и их \"агрегаторе\" -- методе построения случайного леса"
   ]
  },
  {
   "cell_type": "code",
   "execution_count": 91,
   "metadata": {
    "collapsed": true
   },
   "outputs": [],
   "source": [
    "import numpy as np\n",
    "import pandas as pd\n",
    "from sklearn.ensemble import RandomForestClassifier\n",
    "from sklearn.metrics import roc_auc_score # AUC для оценки качества модели\n",
    "from sklearn.metrics import confusion_matrix # для определения FP, FN, TP, TN"
   ]
  },
  {
   "cell_type": "code",
   "execution_count": 92,
   "metadata": {
    "collapsed": true
   },
   "outputs": [],
   "source": [
    "# данные для обучения модели\n",
    "shots = pd.read_csv('curry1415.csv', header=0)\n",
    "data = shots.sort_values(['espn_game_id', 'period', 'minutes_remaining', 'seconds_remaining'], ascending=[1, 1, 0, 0])\n",
    "data.index=range(len(data))\n"
   ]
  },
  {
   "cell_type": "code",
   "execution_count": 93,
   "metadata": {
    "collapsed": false
   },
   "outputs": [],
   "source": [
    "# В качестве данных для тестирования будет использоваться сезон 15-16. Вроде, Стефан Карри\n",
    "# не изменил свой стиль игры и не получал травм, поэтому можно тестировать результаты на другом сезоне\n",
    "# данные для тестирования\n",
    "shots2 = pd.read_csv('curry1516.csv', header=0)\n",
    "test = shots2.sort_values(['espn_game_id', 'period', 'minutes_remaining', 'seconds_remaining'], ascending=[1, 1, 0, 0])\n",
    "test.index=range(len(test))\n"
   ]
  },
  {
   "cell_type": "code",
   "execution_count": 94,
   "metadata": {
    "collapsed": true
   },
   "outputs": [],
   "source": [
    "# Создадим более точные переменные расстояния (в данных они округленные)\n",
    "x=np.array(abs(data['x']))\n",
    "y=np.array(abs(data['y']))\n",
    "data['distance'] = ((x**2+y**2)**0.5)/10\n",
    "\n",
    "xx=np.array(abs(test['x']))\n",
    "yy=np.array(abs(test['y']))\n",
    "test['distance'] = ((xx**2+yy**2)**0.5)/10"
   ]
  },
  {
   "cell_type": "markdown",
   "metadata": {},
   "source": [
    "Подумаем, какие переменные могут быть использованы в качестве регрессоров. Это точно:\n",
    "* Координаты броска\n",
    "* Тип броска \n",
    "* Расстояние (мультколлиниарность)\n",
    "\n",
    "Хотя лучше подумать, что точно не подойдет, а остальное засунуть в модель:\n",
    "* name\n",
    "* team_name\n",
    "* game_date \n",
    "* season\n",
    "* espn_player_id\n",
    "* team_id\n",
    "* espn_game_id\n",
    "\n",
    "Остальные переменные будем использовать, но стоит помнить, что есть пропуски по именам защитников"
   ]
  },
  {
   "cell_type": "code",
   "execution_count": 95,
   "metadata": {
    "collapsed": false
   },
   "outputs": [],
   "source": [
    "# разделим выборку на таргетируемую переменную и все остальные\n",
    "train = data.drop('shot_made_flag', 1)\n",
    "train_y = data['shot_made_flag']\n",
    "\n",
    "# дропнем лишние переменные\n",
    "drops = ['name', 'team_name', 'game_date', 'season', 'espn_player_id', 'team_id', 'espn_game_id']\n",
    "for drop in drops:\n",
    "    train= train.drop(drop, 1)"
   ]
  },
  {
   "cell_type": "code",
   "execution_count": 96,
   "metadata": {
    "collapsed": false
   },
   "outputs": [],
   "source": [
    "# категориальные переменные нужно разбить на дамми, потому что этого требует алгоритм случайного леса, реализованный на sklearn\n",
    "categorical_vars = ['action_type', 'defender_name', 'shot_type', 'opponent']\n",
    "for var in categorical_vars:\n",
    "    train = pd.concat([train, pd.get_dummies(train[var], prefix=var)], 1)\n",
    "    train = train.drop(var, 1)\n",
    "# посмотрим, к каким типам принадлежат переменные\n",
    "# train.dtypes"
   ]
  },
  {
   "cell_type": "code",
   "execution_count": 97,
   "metadata": {
    "collapsed": false
   },
   "outputs": [],
   "source": [
    "# тоже самое для тестовой выборки\n",
    "testing = test.drop('shot_made_flag', 1)\n",
    "testing_y = test['shot_made_flag']\n",
    "\n",
    "# дропнем лишние переменные\n",
    "drops = ['name', 'team_name', 'game_date', 'season', 'espn_player_id', 'team_id', 'espn_game_id']\n",
    "for drop in drops:\n",
    "    testing= testing.drop(drop, 1)\n",
    "    \n",
    "for var in categorical_vars:\n",
    "    testing = pd.concat([testing, pd.get_dummies(testing[var], prefix=var)], 1)\n",
    "    testing = testing.drop(var, 1)"
   ]
  },
  {
   "cell_type": "markdown",
   "metadata": {},
   "source": [
    "Построим случайный лес с неоптимизированными параметрами"
   ]
  },
  {
   "cell_type": "code",
   "execution_count": 98,
   "metadata": {
    "collapsed": false
   },
   "outputs": [
    {
     "data": {
      "text/plain": [
       "RandomForestClassifier(bootstrap=True, class_weight=None, criterion='gini',\n",
       "            max_depth=10, max_features='auto', max_leaf_nodes=None,\n",
       "            min_samples_leaf=1, min_samples_split=2,\n",
       "            min_weight_fraction_leaf=0.0, n_estimators=100, n_jobs=1,\n",
       "            oob_score=False, random_state=None, verbose=0,\n",
       "            warm_start=False)"
      ]
     },
     "execution_count": 98,
     "metadata": {},
     "output_type": "execute_result"
    }
   ],
   "source": [
    "model = RandomForestClassifier(n_estimators=100, max_depth=10)\n",
    "model.fit(train, train_y)"
   ]
  },
  {
   "cell_type": "markdown",
   "metadata": {},
   "source": [
    "Предсказать не получается, так как типов бросков в разных сезонах не совпадают. Возможно, часть множеств не пересекается, поэтому алгоритм не может классифицировать. Пока оставим эту проблему и попробуем проверить точность классификации при помощи разбиения обучающей выборки на две части. Позже: проблема решается через добавление недостающих дамми-переменных в обе выборки"
   ]
  },
  {
   "cell_type": "code",
   "execution_count": null,
   "metadata": {
    "collapsed": false
   },
   "outputs": [],
   "source": []
  },
  {
   "cell_type": "code",
   "execution_count": null,
   "metadata": {
    "collapsed": true
   },
   "outputs": [],
   "source": []
  }
 ],
 "metadata": {
  "anaconda-cloud": {},
  "kernelspec": {
   "display_name": "Python [default]",
   "language": "python",
   "name": "python3"
  },
  "language_info": {
   "codemirror_mode": {
    "name": "ipython",
    "version": 3
   },
   "file_extension": ".py",
   "mimetype": "text/x-python",
   "name": "python",
   "nbconvert_exporter": "python",
   "pygments_lexer": "ipython3",
   "version": "3.5.2"
  }
 },
 "nbformat": 4,
 "nbformat_minor": 1
}
