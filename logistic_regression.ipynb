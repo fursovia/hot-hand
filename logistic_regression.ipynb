{
 "cells": [
  {
   "cell_type": "markdown",
   "metadata": {},
   "source": [
    "# Логистическая регрессия\n",
    "## 0) Загрузка пакетов и данных\n",
    "Эта модель поможет определить знаки коэффициентов при объясняющих переменных"
   ]
  },
  {
   "cell_type": "code",
   "execution_count": 71,
   "metadata": {
    "collapsed": true
   },
   "outputs": [],
   "source": [
    "import numpy as np\n",
    "import pandas as pd\n",
    "\n",
    "from sklearn.metrics import confusion_matrix, roc_auc_score, roc_curve, precision_recall_curve, accuracy_score, auc \n",
    "from sklearn.model_selection import train_test_split, KFold, ShuffleSplit, StratifiedShuffleSplit\n",
    "from sklearn.linear_model import LogisticRegression\n",
    "\n",
    "from sklearn.linear_model import SGDClassifier # стохастический градиентный спуск\n",
    "import matplotlib.pyplot as plt\n",
    "%matplotlib inline\n"
   ]
  },
  {
   "cell_type": "code",
   "execution_count": 2,
   "metadata": {
    "collapsed": true
   },
   "outputs": [],
   "source": [
    "raw = pd.read_csv('curry1415.csv', header=0)"
   ]
  },
  {
   "cell_type": "markdown",
   "metadata": {},
   "source": [
    "## 1) Feature engineering"
   ]
  },
  {
   "cell_type": "code",
   "execution_count": 3,
   "metadata": {
    "collapsed": false
   },
   "outputs": [
    {
     "name": "stderr",
     "output_type": "stream",
     "text": [
      "C:\\ProgramData\\Anaconda3\\lib\\site-packages\\ipykernel\\__main__.py:10: SettingWithCopyWarning: \n",
      "A value is trying to be set on a copy of a slice from a DataFrame\n",
      "\n",
      "See the caveats in the documentation: http://pandas.pydata.org/pandas-docs/stable/indexing.html#indexing-view-versus-copy\n",
      "C:\\ProgramData\\Anaconda3\\lib\\site-packages\\ipykernel\\__main__.py:11: SettingWithCopyWarning: \n",
      "A value is trying to be set on a copy of a slice from a DataFrame\n",
      "\n",
      "See the caveats in the documentation: http://pandas.pydata.org/pandas-docs/stable/indexing.html#indexing-view-versus-copy\n"
     ]
    }
   ],
   "source": [
    "# Интересно, есть ли разница для алгоритма между переменными \"координаты\" и \"расстояние\" + \"угол\"?\n",
    "\n",
    "# добавим более точную переменную расстояния\n",
    "raw['dist'] = np.sqrt(raw['x']**2 + raw['y']**2)\n",
    "\n",
    "# введем угол броска\n",
    "\n",
    "loc_x_zero = raw['x'] == 0\n",
    "raw['angle'] = np.array([0]*len(raw))\n",
    "raw['angle'][~loc_x_zero] = np.arctan(raw['y'][~loc_x_zero] / raw['x'][~loc_x_zero])\n",
    "raw['angle'][loc_x_zero] = np.pi / 2 \n",
    "raw2=raw.copy()"
   ]
  },
  {
   "cell_type": "code",
   "execution_count": 4,
   "metadata": {
    "collapsed": true
   },
   "outputs": [],
   "source": [
    "# единая переменная оставшегося времени\n",
    "raw['remaining_time'] = raw['minutes_remaining'] * 60 + raw['seconds_remaining']\n",
    "\n",
    "# дропаем ненужные переменные\n",
    "todrop = ['name', 'team_name', 'game_date', 'season', 'espn_player_id', 'team_id', \\\n",
    "          'espn_game_id', 'minutes_remaining', 'seconds_remaining', 'shot_distance', 'x', 'y', 'defender_name']\n",
    "\n",
    "for i in todrop:\n",
    "    raw = raw.drop(i, 1)\n",
    "    \n",
    "# создаем дамми-переменные из категориальных\n",
    "categorical_vars = ['action_type', 'shot_type', 'opponent', 'period']\n",
    "\n",
    "for i in categorical_vars:\n",
    "    raw = pd.concat([raw, pd.get_dummies(raw[i], prefix=i)], 1)\n",
    "    raw = raw.drop(i, 1)\n",
    "    \n",
    "# делим выборку на объясняющие переменные и таргетируемую\n",
    "train = raw.drop('shot_made_flag', 1)\n",
    "train_y = raw['shot_made_flag']"
   ]
  },
  {
   "cell_type": "markdown",
   "metadata": {},
   "source": [
    "Создадим вторую объясняющую выборку с новыми переменными"
   ]
  },
  {
   "cell_type": "code",
   "execution_count": 5,
   "metadata": {
    "collapsed": false
   },
   "outputs": [],
   "source": [
    "# отсортируем по времени\n",
    "sorted_raw = raw2.sort_values(['espn_game_id', 'period', 'minutes_remaining', 'seconds_remaining'], ascending=[1, 1, 0, 0])\n",
    "sorted_raw.index=range(len(sorted_raw))\n",
    "\n",
    "sorted_raw['previous1'] = np.zeros(len(sorted_raw)) \n",
    "\n",
    "for i,row in enumerate(sorted_raw[1:].iterrows()):\n",
    "    if i>0:\n",
    "        if sorted_raw.loc[i,'espn_game_id'] == sorted_raw.loc[i-1,'espn_game_id']:\n",
    "            sorted_raw.loc[i,'previous1'] = sorted_raw.loc[i-1,'shot_made_flag']\n",
    "            \n",
    "sorted_raw['previous2'] = np.zeros(len(sorted_raw)) \n",
    "\n",
    "for i,row in enumerate(sorted_raw[1:].iterrows()):\n",
    "    if i>1:\n",
    "        if sorted_raw.loc[i,'espn_game_id'] == sorted_raw.loc[i-1,'espn_game_id'] == sorted_raw.loc[i-2,'espn_game_id']:\n",
    "            if sorted_raw.loc[i-1,'shot_made_flag']==sorted_raw.loc[i-2,'shot_made_flag']==1:\n",
    "                sorted_raw.loc[i,'previous2'] = raw.loc[i-1,'shot_made_flag']\n",
    "                \n",
    "sorted_raw['previous3'] = np.zeros(len(sorted_raw)) \n",
    "\n",
    "for i,row in enumerate(sorted_raw[1:].iterrows()):\n",
    "    if i>2:\n",
    "        if sorted_raw.loc[i,'espn_game_id'] == sorted_raw.loc[i-1,'espn_game_id'] == sorted_raw.loc[i-2,'espn_game_id']== sorted_raw.loc[i-3,'espn_game_id']:\n",
    "            if sorted_raw.loc[i-1,'previous2']==sorted_raw.loc[i,'previous1']==1:\n",
    "                sorted_raw.loc[i,'previous3'] = raw.loc[i-1,'shot_made_flag']\n",
    "                \n",
    "sorted_raw['previous1']=sorted_raw['previous1'].astype(int)\n",
    "sorted_raw['previous2']=sorted_raw['previous2'].astype(int)\n",
    "sorted_raw['previous3']=sorted_raw['previous3'].astype(int)"
   ]
  },
  {
   "cell_type": "code",
   "execution_count": 6,
   "metadata": {
    "collapsed": true
   },
   "outputs": [],
   "source": [
    "sorted_raw['remaining_time'] = sorted_raw['minutes_remaining'] * 60 + sorted_raw['seconds_remaining']\n",
    "# дропаем ненужные переменные\n",
    "todrop = ['name', 'team_name', 'game_date', 'season', 'espn_player_id', 'team_id', \\\n",
    "          'espn_game_id', 'minutes_remaining', 'seconds_remaining', 'shot_distance', 'x', 'y', 'defender_name']\n",
    "\n",
    "for i in todrop:\n",
    "    sorted_raw = sorted_raw.drop(i, 1)\n",
    "\n",
    "# создаем дамми-переменные из категориальных\n",
    "categorical_vars = ['action_type', 'shot_type', 'opponent', 'period']\n",
    "# categorical_vars = ['action_type', 'shot_type', 'opponent', 'period', 'previous1', 'previous2', 'previous3']\n",
    "for i in categorical_vars:\n",
    "    sorted_raw = pd.concat([sorted_raw, pd.get_dummies(sorted_raw[i], prefix=i)], 1)\n",
    "    sorted_raw = sorted_raw.drop(i, 1)\n",
    "# делим выборку на объясняющие переменные и таргетируемую\n",
    "train2 = sorted_raw.drop('shot_made_flag', 1)\n",
    "train2_y = sorted_raw['shot_made_flag']"
   ]
  },
  {
   "cell_type": "code",
   "execution_count": 119,
   "metadata": {
    "collapsed": false
   },
   "outputs": [],
   "source": [
    "sorted_raw.to_csv('forR.csv', sep=',', index=False)"
   ]
  },
  {
   "cell_type": "markdown",
   "metadata": {},
   "source": [
    "## 2) Логистическая регрессия\n",
    "### Без включения предыдущих бросков"
   ]
  },
  {
   "cell_type": "code",
   "execution_count": 7,
   "metadata": {
    "collapsed": false
   },
   "outputs": [],
   "source": [
    "# создаем объект\n",
    "lr=LogisticRegression(penalty='l2')\n",
    "\n",
    "# рандомно делим выборку на 70/30\n",
    "X_train, X_test, y_train, y_test = train_test_split(train, train_y, test_size=0.3, random_state=43)\n",
    "\n",
    "# фитим модель\n",
    "lr.fit(X_train, y_train)\n",
    "pred1 = lr.predict(X_test)"
   ]
  },
  {
   "cell_type": "code",
   "execution_count": 8,
   "metadata": {
    "collapsed": false
   },
   "outputs": [],
   "source": [
    "# Таблица коэффициентов\n",
    "coef=lr.coef_\n",
    "cols = train.columns.values\n",
    "coef_df = pd.DataFrame( {'Variables': cols,\n",
    "     'Coefficients': coef[0],\n",
    "    })"
   ]
  },
  {
   "cell_type": "markdown",
   "metadata": {},
   "source": [
    "** В sklearn не реализован significance test**\n",
    "\n",
    "Придется:\n",
    "\n",
    "1. Либо найти скрипт реализации p-values\n",
    "\n",
    "2. Либо прогнать логистическую регрессию через R (просто сохранить данные с в csv)"
   ]
  },
  {
   "cell_type": "code",
   "execution_count": 9,
   "metadata": {
    "collapsed": false
   },
   "outputs": [
    {
     "name": "stdout",
     "output_type": "stream",
     "text": [
      "Accuracy: 0.59925093633\n"
     ]
    }
   ],
   "source": [
    "print('Accuracy:', accuracy_score(y_test, pred1))"
   ]
  },
  {
   "cell_type": "markdown",
   "metadata": {},
   "source": [
    "**Оценки качества работы классификатора**"
   ]
  },
  {
   "cell_type": "code",
   "execution_count": 10,
   "metadata": {
    "collapsed": false
   },
   "outputs": [
    {
     "data": {
      "image/png": "[encoded data removed]",
      "text/plain": [
       "<matplotlib.figure.Figure at 0xa121198>"
      ]
     },
     "metadata": {},
     "output_type": "display_data"
    }
   ],
   "source": [
    "precision, recall, thresholds = precision_recall_curve(y_test, lr.predict_proba(X_test)[:, 1])\n",
    "plt.plot(recall, precision)\n",
    "plt.xlabel('recall')\n",
    "plt.ylabel('precision')\n",
    "plt.show()"
   ]
  },
  {
   "cell_type": "code",
   "execution_count": 11,
   "metadata": {
    "collapsed": false
   },
   "outputs": [
    {
     "data": {
      "text/plain": [
       "0.62566089083922072"
      ]
     },
     "execution_count": 11,
     "metadata": {},
     "output_type": "execute_result"
    }
   ],
   "source": [
    "auc(recall, precision)"
   ]
  },
  {
   "cell_type": "code",
   "execution_count": 12,
   "metadata": {
    "collapsed": false
   },
   "outputs": [
    {
     "data": {
      "image/png": "[encoded data removed]",
      "text/plain": [
       "<matplotlib.figure.Figure at 0xb412c88>"
      ]
     },
     "metadata": {},
     "output_type": "display_data"
    }
   ],
   "source": [
    "fpr, tpr, thresholds = roc_curve(y_test, lr.predict_proba(X_test)[:, 1])\n",
    "plt.plot(fpr, tpr)\n",
    "plt.xlabel('FPR')\n",
    "plt.ylabel('TPR')\n",
    "plt.show()"
   ]
  },
  {
   "cell_type": "code",
   "execution_count": 13,
   "metadata": {
    "collapsed": false
   },
   "outputs": [
    {
     "data": {
      "text/plain": [
       "0.64788811581980466"
      ]
     },
     "execution_count": 13,
     "metadata": {},
     "output_type": "execute_result"
    }
   ],
   "source": [
    "auc(fpr, tpr)"
   ]
  },
  {
   "cell_type": "markdown",
   "metadata": {},
   "source": [
    "### Включаем дополнительные переменные"
   ]
  },
  {
   "cell_type": "code",
   "execution_count": 66,
   "metadata": {
    "collapsed": false
   },
   "outputs": [],
   "source": [
    "# рандомно делим выборку на 70/30\n",
    "X_train, X_test, y_train, y_test = train_test_split(train2, train2_y, test_size=0.15, random_state=88)\n",
    "\n",
    "# фитим модель\n",
    "lr.fit(X_train, y_train)\n",
    "pred2 = lr.predict(X_test)"
   ]
  },
  {
   "cell_type": "code",
   "execution_count": 67,
   "metadata": {
    "collapsed": true
   },
   "outputs": [],
   "source": [
    "# Таблица коэффициентов\n",
    "coef2=lr.coef_\n",
    "cols2 = train2.columns.values\n",
    "coef_df2 = pd.DataFrame( {'Variables': cols2,\n",
    "     'Coefficients': coef2[0],\n",
    "    })"
   ]
  },
  {
   "cell_type": "code",
   "execution_count": 110,
   "metadata": {
    "collapsed": false
   },
   "outputs": [
    {
     "data": {
      "text/html": [
       "<div>\n",
       "<table border=\"1\" class=\"dataframe\">\n",
       "  <thead>\n",
       "    <tr style=\"text-align: right;\">\n",
       "      <th></th>\n",
       "      <th>Coefficients</th>\n",
       "      <th>Variables</th>\n",
       "    </tr>\n",
       "  </thead>\n",
       "  <tbody>\n",
       "    <tr>\n",
       "      <th>0</th>\n",
       "      <td>0.073735</td>\n",
       "      <td>dribbles</td>\n",
       "    </tr>\n",
       "    <tr>\n",
       "      <th>1</th>\n",
       "      <td>-0.110726</td>\n",
       "      <td>touch_time</td>\n",
       "    </tr>\n",
       "    <tr>\n",
       "      <th>2</th>\n",
       "      <td>0.064691</td>\n",
       "      <td>defender_distance</td>\n",
       "    </tr>\n",
       "    <tr>\n",
       "      <th>3</th>\n",
       "      <td>0.010262</td>\n",
       "      <td>shot_clock</td>\n",
       "    </tr>\n",
       "    <tr>\n",
       "      <th>4</th>\n",
       "      <td>-0.002813</td>\n",
       "      <td>dist</td>\n",
       "    </tr>\n",
       "    <tr>\n",
       "      <th>5</th>\n",
       "      <td>0.019583</td>\n",
       "      <td>angle</td>\n",
       "    </tr>\n",
       "    <tr>\n",
       "      <th>6</th>\n",
       "      <td>-0.223405</td>\n",
       "      <td>previous1</td>\n",
       "    </tr>\n",
       "    <tr>\n",
       "      <th>7</th>\n",
       "      <td>-0.097678</td>\n",
       "      <td>previous2</td>\n",
       "    </tr>\n",
       "    <tr>\n",
       "      <th>8</th>\n",
       "      <td>0.159022</td>\n",
       "      <td>previous3</td>\n",
       "    </tr>\n",
       "    <tr>\n",
       "      <th>9</th>\n",
       "      <td>0.000355</td>\n",
       "      <td>remaining_time</td>\n",
       "    </tr>\n",
       "  </tbody>\n",
       "</table>\n",
       "</div>"
      ],
      "text/plain": [
       "   Coefficients          Variables\n",
       "0      0.073735           dribbles\n",
       "1     -0.110726         touch_time\n",
       "2      0.064691  defender_distance\n",
       "3      0.010262         shot_clock\n",
       "4     -0.002813               dist\n",
       "5      0.019583              angle\n",
       "6     -0.223405          previous1\n",
       "7     -0.097678          previous2\n",
       "8      0.159022          previous3\n",
       "9      0.000355     remaining_time"
      ]
     },
     "execution_count": 110,
     "metadata": {},
     "output_type": "execute_result"
    }
   ],
   "source": [
    "coef_df2.head(10)"
   ]
  },
  {
   "cell_type": "code",
   "execution_count": 68,
   "metadata": {
    "collapsed": false
   },
   "outputs": [
    {
     "name": "stdout",
     "output_type": "stream",
     "text": [
      "Accuracy: 0.610486891386\n"
     ]
    }
   ],
   "source": [
    "print('Accuracy:', accuracy_score(y_test, pred2))"
   ]
  },
  {
   "cell_type": "code",
   "execution_count": 69,
   "metadata": {
    "collapsed": false
   },
   "outputs": [
    {
     "name": "stdout",
     "output_type": "stream",
     "text": [
      "0.61182063161 0.657774997156\n"
     ]
    }
   ],
   "source": [
    "precision, recall, thresholds = precision_recall_curve(y_test, lr.predict_proba(X_test)[:, 1])\n",
    "fpr, tpr, thresholds = roc_curve(y_test, lr.predict_proba(X_test)[:, 1])\n",
    "print(auc(recall, precision),auc(fpr, tpr))"
   ]
  },
  {
   "cell_type": "markdown",
   "metadata": {},
   "source": [
    "**Результаты:**\n",
    "\n",
    "1. Точность увеличивается незначительно после включения дополнительных переменных\n",
    "2. Коэффициенты при \"забил 1 и 2 предыдущих\" отрицательны. \"Забил 3\" -- положительный\n",
    "3. Значимы ли эти коэффициенты?\n",
    "4. Какие предельные эффекты?"
   ]
  },
  {
   "cell_type": "markdown",
   "metadata": {},
   "source": [
    "## 2.1) Стохастический градиентный спуск\n",
    "Попробуем бездумно применить этот метод для логистической модели"
   ]
  },
  {
   "cell_type": "code",
   "execution_count": 82,
   "metadata": {
    "collapsed": false
   },
   "outputs": [
    {
     "name": "stdout",
     "output_type": "stream",
     "text": [
      "Accuracy: 0.588014981273\n"
     ]
    }
   ],
   "source": [
    "lr_sgd = SGDClassifier(loss=\"log\", alpha=1, n_iter=200, fit_intercept=True, random_state=43)\n",
    "lr_sgd.fit(X_train, y_train)\n",
    "preds_sgd = lr_sgd.predict(X_test)\n",
    "print('Accuracy:', accuracy_score(y_test, preds_sgd))"
   ]
  },
  {
   "cell_type": "markdown",
   "metadata": {
    "collapsed": true
   },
   "source": [
    "## 3) Валидация логистической регрессии"
   ]
  },
  {
   "cell_type": "markdown",
   "metadata": {},
   "source": [
    "### 3.1) Shuffle Split\n",
    "Делим выборку на *k* частей и усредняем результаты AUC PRC, AUC ROC"
   ]
  },
  {
   "cell_type": "code",
   "execution_count": 92,
   "metadata": {
    "collapsed": false
   },
   "outputs": [],
   "source": [
    "sp = ShuffleSplit(n_splits=10, test_size=0.30, random_state=88)\n",
    "aucroc = []\n",
    "aucprc = []\n",
    "lr = LogisticRegression()\n",
    "for train_index, test_index in sp.split(train):\n",
    "    lr.fit(train.iloc[train_index], train_y.iloc[train_index])\n",
    "    aucroc.append(roc_auc_score(train_y.iloc[test_index], lr.predict_proba(train.iloc[test_index])[:,1]))\n",
    "    precision, recall, thresholds = precision_recall_curve(train_y.iloc[test_index], lr.predict_proba(train.iloc[test_index])[:, 1])\n",
    "    aucprc.append(auc(recall, precision))"
   ]
  },
  {
   "cell_type": "code",
   "execution_count": 93,
   "metadata": {
    "collapsed": false
   },
   "outputs": [
    {
     "name": "stdout",
     "output_type": "stream",
     "text": [
      "0.660151108179 0.672714817266\n"
     ]
    }
   ],
   "source": [
    "# Результаты увеличиваются незначительно\n",
    "print(np.mean(aucprc), np.mean(aucroc))"
   ]
  },
  {
   "cell_type": "markdown",
   "metadata": {},
   "source": [
    "### 3.2) Стратификация\n",
    "Разбиваем выборку на обучение и тест с сохранением доли реализации различных типов бросков"
   ]
  },
  {
   "cell_type": "code",
   "execution_count": 94,
   "metadata": {
    "collapsed": false
   },
   "outputs": [],
   "source": [
    "sss = StratifiedShuffleSplit(n_splits=10, test_size=0.30, random_state=88)\n",
    "aucroc = []\n",
    "aucprc = []\n",
    "lr = LogisticRegression()\n",
    "for train_index, test_index in sss.split(train, train_y):\n",
    "    lr.fit(train.iloc[train_index], train_y.iloc[train_index])\n",
    "    aucroc.append(roc_auc_score(train_y.iloc[test_index], lr.predict_proba(train.iloc[test_index])[:,1]))\n",
    "    precision, recall, thresholds = precision_recall_curve(train_y.iloc[test_index], lr.predict_proba(train.iloc[test_index])[:, 1])\n",
    "    aucprc.append(auc(recall, precision))"
   ]
  },
  {
   "cell_type": "code",
   "execution_count": 95,
   "metadata": {
    "collapsed": false
   },
   "outputs": [
    {
     "name": "stdout",
     "output_type": "stream",
     "text": [
      "0.637206925091 0.659637758543\n"
     ]
    }
   ],
   "source": [
    "print(np.mean(aucprc), np.mean(aucroc))"
   ]
  },
  {
   "cell_type": "markdown",
   "metadata": {},
   "source": [
    "### 3.3) K-fold кросс-валидация"
   ]
  },
  {
   "cell_type": "code",
   "execution_count": 106,
   "metadata": {
    "collapsed": true
   },
   "outputs": [],
   "source": [
    "kf = KFold(n_splits=10, shuffle=True, random_state=88)\n",
    "aucroc = []\n",
    "aucprc = []\n",
    "lr = LogisticRegression()\n",
    "for train_index, test_index in kf.split(train):\n",
    "    lr.fit(train.iloc[train_index], train_y.iloc[train_index])\n",
    "    aucroc.append(roc_auc_score(train_y.iloc[test_index], lr.predict_proba(train.iloc[test_index])[:,1]))\n",
    "    precision, recall, thresholds = precision_recall_curve(train_y.iloc[test_index], lr.predict_proba(train.iloc[test_index])[:, 1])\n",
    "    aucprc.append(auc(recall, precision))"
   ]
  },
  {
   "cell_type": "code",
   "execution_count": 107,
   "metadata": {
    "collapsed": false
   },
   "outputs": [
    {
     "name": "stdout",
     "output_type": "stream",
     "text": [
      "0.657124043695 0.678212939222\n"
     ]
    }
   ],
   "source": [
    "print(np.mean(aucprc), np.mean(aucroc))"
   ]
  },
  {
   "cell_type": "code",
   "execution_count": null,
   "metadata": {
    "collapsed": false
   },
   "outputs": [],
   "source": []
  },
  {
   "cell_type": "code",
   "execution_count": null,
   "metadata": {
    "collapsed": true
   },
   "outputs": [],
   "source": []
  }
 ],
 "metadata": {
  "kernelspec": {
   "display_name": "Python 3",
   "language": "python",
   "name": "python3"
  },
  "language_info": {
   "codemirror_mode": {
    "name": "ipython",
    "version": 3
   },
   "file_extension": ".py",
   "mimetype": "text/x-python",
   "name": "python",
   "nbconvert_exporter": "python",
   "pygments_lexer": "ipython3",
   "version": "3.6.0"
  }
 },
 "nbformat": 4,
 "nbformat_minor": 2
}
