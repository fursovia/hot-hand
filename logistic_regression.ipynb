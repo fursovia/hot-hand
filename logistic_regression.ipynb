{
 "cells": [
  {
   "cell_type": "markdown",
   "metadata": {},
   "source": [
    "# Логистическая регрессия\n",
    "## 0) Загрузка пакетов и данных\n",
    "Эта модель поможет определить знаки коэффициентов при объясняющих переменных"
   ]
  },
  {
   "cell_type": "code",
   "execution_count": 1,
   "metadata": {
    "collapsed": true
   },
   "outputs": [],
   "source": [
    "import numpy as np\n",
    "import pandas as pd\n",
    "\n",
    "from sklearn.metrics import confusion_matrix, roc_auc_score, roc_curve, precision_recall_curve, accuracy_score, auc \n",
    "from sklearn.model_selection import train_test_split, KFold, ShuffleSplit, StratifiedShuffleSplit\n",
    "from sklearn.linear_model import LogisticRegression\n",
    "\n",
    "from sklearn.linear_model import SGDClassifier # стохастический градиентный спуск\n",
    "import matplotlib.pyplot as plt\n",
    "%matplotlib inline\n"
   ]
  },
  {
   "cell_type": "code",
   "execution_count": 22,
   "metadata": {
    "collapsed": true
   },
   "outputs": [],
   "source": [
    "raw = pd.read_csv('curry1415.csv', header=0)"
   ]
  },
  {
   "cell_type": "markdown",
   "metadata": {},
   "source": [
    "## 1) Feature engineering"
   ]
  },
  {
   "cell_type": "code",
   "execution_count": 23,
   "metadata": {
    "collapsed": false
   },
   "outputs": [
    {
     "name": "stderr",
     "output_type": "stream",
     "text": [
      "C:\\ProgramData\\Anaconda3\\lib\\site-packages\\ipykernel\\__main__.py:10: SettingWithCopyWarning: \n",
      "A value is trying to be set on a copy of a slice from a DataFrame\n",
      "\n",
      "See the caveats in the documentation: http://pandas.pydata.org/pandas-docs/stable/indexing.html#indexing-view-versus-copy\n",
      "C:\\ProgramData\\Anaconda3\\lib\\site-packages\\ipykernel\\__main__.py:11: SettingWithCopyWarning: \n",
      "A value is trying to be set on a copy of a slice from a DataFrame\n",
      "\n",
      "See the caveats in the documentation: http://pandas.pydata.org/pandas-docs/stable/indexing.html#indexing-view-versus-copy\n"
     ]
    }
   ],
   "source": [
    "# Интересно, есть ли разница для алгоритма между переменными \"координаты\" и \"расстояние\" + \"угол\"?\n",
    "\n",
    "# добавим более точную переменную расстояния\n",
    "raw['dist'] = np.sqrt(raw['x']**2 + raw['y']**2)\n",
    "\n",
    "# введем угол броска\n",
    "\n",
    "loc_x_zero = raw['x'] == 0\n",
    "raw['angle'] = np.array([0]*len(raw))\n",
    "raw['angle'][~loc_x_zero] = np.arctan(raw['y'][~loc_x_zero] / raw['x'][~loc_x_zero])\n",
    "raw['angle'][loc_x_zero] = np.pi / 2 \n"
   ]
  },
  {
   "cell_type": "markdown",
   "metadata": {
    "collapsed": false
   },
   "source": [
    "### 1.1) Угол\n",
    "Эта переменная должна быть изменена специально для модели"
   ]
  },
  {
   "cell_type": "code",
   "execution_count": 24,
   "metadata": {
    "collapsed": true
   },
   "outputs": [],
   "source": [
    "raw['angle']=np.absolute(raw['angle'])\n",
    "raw['angle2']=(np.array(raw['angle']))**2\n",
    "#raw['angle05']=(np.array(raw['angle']))**0.5\n",
    "raw2=raw.copy()"
   ]
  },
  {
   "cell_type": "code",
   "execution_count": 57,
   "metadata": {
    "collapsed": false
   },
   "outputs": [
    {
     "data": {
      "text/plain": [
       "0    1.504958\n",
       "1    0.463648\n",
       "2    0.235545\n",
       "3    1.570796\n",
       "4    0.126973\n",
       "Name: angle, dtype: float64"
      ]
     },
     "execution_count": 57,
     "metadata": {},
     "output_type": "execute_result"
    }
   ],
   "source": [
    "raw['angle'].head()"
   ]
  },
  {
   "cell_type": "code",
   "execution_count": 25,
   "metadata": {
    "collapsed": true
   },
   "outputs": [],
   "source": [
    "# единая переменная оставшегося времени\n",
    "raw['remaining_time'] = raw['minutes_remaining'] * 60 + raw['seconds_remaining']\n",
    "\n",
    "# дропаем ненужные переменные\n",
    "todrop = ['name', 'team_name', 'game_date', 'season', 'espn_player_id', 'team_id', \\\n",
    "          'espn_game_id', 'minutes_remaining', 'seconds_remaining', 'shot_distance', 'x', 'y', 'defender_name']\n",
    "\n",
    "for i in todrop:\n",
    "    raw = raw.drop(i, 1)\n",
    "\n",
    "raw.to_csv('nodummy.csv', sep=',', index=False)\n",
    "    \n",
    "# создаем дамми-переменные из категориальных\n",
    "categorical_vars = ['action_type', 'shot_type', 'opponent', 'period']\n",
    "\n",
    "for i in categorical_vars:\n",
    "    raw = pd.concat([raw, pd.get_dummies(raw[i], prefix=i)], 1)\n",
    "    raw = raw.drop(i, 1)\n",
    "    \n",
    "# делим выборку на объясняющие переменные и таргетируемую\n",
    "train = raw.drop('shot_made_flag', 1)\n",
    "train_y = raw['shot_made_flag']"
   ]
  },
  {
   "cell_type": "markdown",
   "metadata": {},
   "source": [
    "Создадим вторую объясняющую выборку с новыми переменными"
   ]
  },
  {
   "cell_type": "code",
   "execution_count": 26,
   "metadata": {
    "collapsed": false
   },
   "outputs": [],
   "source": [
    "# отсортируем по времени\n",
    "sorted_raw = raw2.sort_values(['espn_game_id', 'period', 'minutes_remaining', 'seconds_remaining'], ascending=[1, 1, 0, 0])\n",
    "sorted_raw.index=range(len(sorted_raw))\n",
    "\n",
    "sorted_raw['previous1'] = np.zeros(len(sorted_raw)) \n",
    "\n",
    "for i,row in enumerate(sorted_raw[1:].iterrows()):\n",
    "    if i>0:\n",
    "        if sorted_raw.loc[i,'espn_game_id'] == sorted_raw.loc[i-1,'espn_game_id']:\n",
    "            sorted_raw.loc[i,'previous1'] = sorted_raw.loc[i-1,'shot_made_flag']\n",
    "            \n",
    "sorted_raw['previous2'] = np.zeros(len(sorted_raw)) \n",
    "\n",
    "for i,row in enumerate(sorted_raw[1:].iterrows()):\n",
    "    if i>1:\n",
    "        if sorted_raw.loc[i,'espn_game_id'] == sorted_raw.loc[i-1,'espn_game_id'] == sorted_raw.loc[i-2,'espn_game_id']:\n",
    "            if sorted_raw.loc[i-1,'shot_made_flag']==sorted_raw.loc[i-2,'shot_made_flag']==1:\n",
    "                sorted_raw.loc[i,'previous2'] = raw.loc[i-1,'shot_made_flag']\n",
    "                \n",
    "sorted_raw['previous3'] = np.zeros(len(sorted_raw)) \n",
    "\n",
    "for i,row in enumerate(sorted_raw[1:].iterrows()):\n",
    "    if i>2:\n",
    "        if sorted_raw.loc[i,'espn_game_id'] == sorted_raw.loc[i-1,'espn_game_id'] == sorted_raw.loc[i-2,'espn_game_id']== sorted_raw.loc[i-3,'espn_game_id']:\n",
    "            if sorted_raw.loc[i-1,'previous2']==sorted_raw.loc[i,'previous1']==1:\n",
    "                sorted_raw.loc[i,'previous3'] = raw.loc[i-1,'shot_made_flag']\n",
    "                \n",
    "sorted_raw['previous1']=sorted_raw['previous1'].astype(int)\n",
    "sorted_raw['previous2']=sorted_raw['previous2'].astype(int)\n",
    "sorted_raw['previous3']=sorted_raw['previous3'].astype(int)"
   ]
  },
  {
   "cell_type": "code",
   "execution_count": 27,
   "metadata": {
    "collapsed": true
   },
   "outputs": [],
   "source": [
    "sorted_raw['remaining_time'] = sorted_raw['minutes_remaining'] * 60 + sorted_raw['seconds_remaining']\n",
    "# дропаем ненужные переменные\n",
    "todrop = ['name', 'team_name', 'game_date', 'season', 'espn_player_id', 'team_id', \\\n",
    "          'espn_game_id', 'minutes_remaining', 'seconds_remaining', 'shot_distance', 'x', 'y', 'defender_name']\n",
    "\n",
    "for i in todrop:\n",
    "    sorted_raw = sorted_raw.drop(i, 1)\n",
    "\n",
    "# создаем дамми-переменные из категориальных\n",
    "categorical_vars = ['action_type', 'shot_type', 'opponent', 'period']\n",
    "# categorical_vars = ['action_type', 'shot_type', 'opponent', 'period', 'previous1', 'previous2', 'previous3']\n",
    "for i in categorical_vars:\n",
    "    sorted_raw = pd.concat([sorted_raw, pd.get_dummies(sorted_raw[i], prefix=i)], 1)\n",
    "    sorted_raw = sorted_raw.drop(i, 1)\n",
    "# делим выборку на объясняющие переменные и таргетируемую\n",
    "train2 = sorted_raw.drop('shot_made_flag', 1)\n",
    "train2_y = sorted_raw['shot_made_flag']"
   ]
  },
  {
   "cell_type": "code",
   "execution_count": 8,
   "metadata": {
    "collapsed": false
   },
   "outputs": [],
   "source": [
    "# Сохраним готовые данные для последующего анализа\n",
    "sorted_raw.to_csv('withprevious.csv', sep=',', index=False)\n",
    "raw.to_csv('noprevious.csv', sep=',', index=False)"
   ]
  },
  {
   "cell_type": "code",
   "execution_count": null,
   "metadata": {
    "collapsed": false
   },
   "outputs": [],
   "source": []
  },
  {
   "cell_type": "markdown",
   "metadata": {},
   "source": [
    "## 2) Логистическая регрессия\n",
    "### Без включения предыдущих бросков"
   ]
  },
  {
   "cell_type": "code",
   "execution_count": 62,
   "metadata": {
    "collapsed": false
   },
   "outputs": [],
   "source": [
    "# создаем объект\n",
    "lr=LogisticRegression(penalty='l2', C=1)\n",
    "\n",
    "# рандомно делим выборку на 70/30\n",
    "X_train, X_test, y_train, y_test = train_test_split(train, train_y, test_size=0.3, random_state=42)\n",
    "\n",
    "# фитим модель\n",
    "lr.fit(X_train, y_train)\n",
    "pred1 = lr.predict(X_test)"
   ]
  },
  {
   "cell_type": "code",
   "execution_count": 63,
   "metadata": {
    "collapsed": false
   },
   "outputs": [],
   "source": [
    "# Таблица коэффициентов\n",
    "coef=lr.coef_\n",
    "cols = train.columns.values\n",
    "coef_df = pd.DataFrame( {'Variables': cols,\n",
    "     'Coefficients': coef[0],\n",
    "    })"
   ]
  },
  {
   "cell_type": "code",
   "execution_count": 64,
   "metadata": {
    "collapsed": false
   },
   "outputs": [
    {
     "data": {
      "text/html": [
       "<div>\n",
       "<table border=\"1\" class=\"dataframe\">\n",
       "  <thead>\n",
       "    <tr style=\"text-align: right;\">\n",
       "      <th></th>\n",
       "      <th>Coefficients</th>\n",
       "      <th>Variables</th>\n",
       "    </tr>\n",
       "  </thead>\n",
       "  <tbody>\n",
       "    <tr>\n",
       "      <th>0</th>\n",
       "      <td>0.077334</td>\n",
       "      <td>dribbles</td>\n",
       "    </tr>\n",
       "    <tr>\n",
       "      <th>1</th>\n",
       "      <td>-0.132885</td>\n",
       "      <td>touch_time</td>\n",
       "    </tr>\n",
       "    <tr>\n",
       "      <th>2</th>\n",
       "      <td>0.073898</td>\n",
       "      <td>defender_distance</td>\n",
       "    </tr>\n",
       "    <tr>\n",
       "      <th>3</th>\n",
       "      <td>0.021935</td>\n",
       "      <td>shot_clock</td>\n",
       "    </tr>\n",
       "    <tr>\n",
       "      <th>4</th>\n",
       "      <td>-0.002909</td>\n",
       "      <td>dist</td>\n",
       "    </tr>\n",
       "    <tr>\n",
       "      <th>5</th>\n",
       "      <td>-0.446093</td>\n",
       "      <td>angle</td>\n",
       "    </tr>\n",
       "    <tr>\n",
       "      <th>6</th>\n",
       "      <td>0.165668</td>\n",
       "      <td>angle2</td>\n",
       "    </tr>\n",
       "    <tr>\n",
       "      <th>7</th>\n",
       "      <td>0.000408</td>\n",
       "      <td>remaining_time</td>\n",
       "    </tr>\n",
       "    <tr>\n",
       "      <th>8</th>\n",
       "      <td>0.900936</td>\n",
       "      <td>action_type_Driving Bank shot</td>\n",
       "    </tr>\n",
       "    <tr>\n",
       "      <th>9</th>\n",
       "      <td>0.511565</td>\n",
       "      <td>action_type_Driving Finger Roll Layup Shot</td>\n",
       "    </tr>\n",
       "  </tbody>\n",
       "</table>\n",
       "</div>"
      ],
      "text/plain": [
       "   Coefficients                                   Variables\n",
       "0      0.077334                                    dribbles\n",
       "1     -0.132885                                  touch_time\n",
       "2      0.073898                           defender_distance\n",
       "3      0.021935                                  shot_clock\n",
       "4     -0.002909                                        dist\n",
       "5     -0.446093                                       angle\n",
       "6      0.165668                                      angle2\n",
       "7      0.000408                              remaining_time\n",
       "8      0.900936               action_type_Driving Bank shot\n",
       "9      0.511565  action_type_Driving Finger Roll Layup Shot"
      ]
     },
     "execution_count": 64,
     "metadata": {},
     "output_type": "execute_result"
    }
   ],
   "source": [
    "coef_df.head(10)"
   ]
  },
  {
   "cell_type": "markdown",
   "metadata": {},
   "source": [
    "** В sklearn не реализован significance test**\n",
    "\n",
    "Придется:\n",
    "\n",
    "1. Либо найти скрипт реализации p-values\n",
    "\n",
    "2. Либо прогнать логистическую регрессию через R (просто сохранить данные с в csv)"
   ]
  },
  {
   "cell_type": "code",
   "execution_count": 65,
   "metadata": {
    "collapsed": false
   },
   "outputs": [
    {
     "name": "stdout",
     "output_type": "stream",
     "text": [
      "Accuracy: 0.621722846442\n"
     ]
    }
   ],
   "source": [
    "print('Accuracy:', accuracy_score(y_test, pred1))"
   ]
  },
  {
   "cell_type": "markdown",
   "metadata": {},
   "source": [
    "**Оценки качества работы классификатора**"
   ]
  },
  {
   "cell_type": "code",
   "execution_count": 66,
   "metadata": {
    "collapsed": false
   },
   "outputs": [
    {
     "data": {
      "image/png": "[encoded data removed]",
      "text/plain": [
       "<matplotlib.figure.Figure at 0x6a26e80>"
      ]
     },
     "metadata": {},
     "output_type": "display_data"
    }
   ],
   "source": [
    "precision, recall, thresholds = precision_recall_curve(y_test, lr.predict_proba(X_test)[:, 1])\n",
    "plt.plot(recall, precision)\n",
    "plt.xlabel('recall')\n",
    "plt.ylabel('precision')\n",
    "plt.show()"
   ]
  },
  {
   "cell_type": "code",
   "execution_count": 67,
   "metadata": {
    "collapsed": false
   },
   "outputs": [
    {
     "data": {
      "text/plain": [
       "0.6180506942171613"
      ]
     },
     "execution_count": 67,
     "metadata": {},
     "output_type": "execute_result"
    }
   ],
   "source": [
    "auc(recall, precision)"
   ]
  },
  {
   "cell_type": "code",
   "execution_count": 68,
   "metadata": {
    "collapsed": false
   },
   "outputs": [
    {
     "data": {
      "image/png": "[encoded data removed]",
      "text/plain": [
       "<matplotlib.figure.Figure at 0x6a2bcc0>"
      ]
     },
     "metadata": {},
     "output_type": "display_data"
    }
   ],
   "source": [
    "fpr, tpr, thresholds = roc_curve(y_test, lr.predict_proba(X_test)[:, 1])\n",
    "plt.plot(fpr, tpr)\n",
    "plt.xlabel('FPR')\n",
    "plt.ylabel('TPR')\n",
    "plt.show()"
   ]
  },
  {
   "cell_type": "code",
   "execution_count": 69,
   "metadata": {
    "collapsed": false
   },
   "outputs": [
    {
     "data": {
      "text/plain": [
       "0.66128438809011669"
      ]
     },
     "execution_count": 69,
     "metadata": {},
     "output_type": "execute_result"
    }
   ],
   "source": [
    "auc(fpr, tpr)"
   ]
  },
  {
   "cell_type": "markdown",
   "metadata": {},
   "source": [
    "### Включаем дополнительные переменные"
   ]
  },
  {
   "cell_type": "code",
   "execution_count": 93,
   "metadata": {
    "collapsed": false
   },
   "outputs": [],
   "source": [
    "# рандомно делим выборку на 70/30\n",
    "X_train, X_test, y_train, y_test = train_test_split(train2, train2_y, test_size=0.15, random_state=48)\n",
    "\n",
    "# фитим модель\n",
    "lr.fit(X_train, y_train)\n",
    "pred2 = lr.predict(X_test)"
   ]
  },
  {
   "cell_type": "code",
   "execution_count": 87,
   "metadata": {
    "collapsed": true
   },
   "outputs": [],
   "source": [
    "# Таблица коэффициентов\n",
    "coef2=lr.coef_\n",
    "cols2 = train2.columns.values\n",
    "coef_df2 = pd.DataFrame( {'Variables': cols2,\n",
    "     'Coefficients': coef2[0],\n",
    "    })"
   ]
  },
  {
   "cell_type": "code",
   "execution_count": 88,
   "metadata": {
    "collapsed": false
   },
   "outputs": [
    {
     "data": {
      "text/html": [
       "<div>\n",
       "<table border=\"1\" class=\"dataframe\">\n",
       "  <thead>\n",
       "    <tr style=\"text-align: right;\">\n",
       "      <th></th>\n",
       "      <th>Coefficients</th>\n",
       "      <th>Variables</th>\n",
       "    </tr>\n",
       "  </thead>\n",
       "  <tbody>\n",
       "    <tr>\n",
       "      <th>0</th>\n",
       "      <td>0.062163</td>\n",
       "      <td>dribbles</td>\n",
       "    </tr>\n",
       "    <tr>\n",
       "      <th>1</th>\n",
       "      <td>-0.097194</td>\n",
       "      <td>touch_time</td>\n",
       "    </tr>\n",
       "    <tr>\n",
       "      <th>2</th>\n",
       "      <td>0.090547</td>\n",
       "      <td>defender_distance</td>\n",
       "    </tr>\n",
       "    <tr>\n",
       "      <th>3</th>\n",
       "      <td>0.014925</td>\n",
       "      <td>shot_clock</td>\n",
       "    </tr>\n",
       "    <tr>\n",
       "      <th>4</th>\n",
       "      <td>-0.001704</td>\n",
       "      <td>dist</td>\n",
       "    </tr>\n",
       "    <tr>\n",
       "      <th>5</th>\n",
       "      <td>-0.466597</td>\n",
       "      <td>angle</td>\n",
       "    </tr>\n",
       "    <tr>\n",
       "      <th>6</th>\n",
       "      <td>0.152372</td>\n",
       "      <td>angle2</td>\n",
       "    </tr>\n",
       "    <tr>\n",
       "      <th>7</th>\n",
       "      <td>-0.136491</td>\n",
       "      <td>previous1</td>\n",
       "    </tr>\n",
       "    <tr>\n",
       "      <th>8</th>\n",
       "      <td>-0.029647</td>\n",
       "      <td>previous2</td>\n",
       "    </tr>\n",
       "    <tr>\n",
       "      <th>9</th>\n",
       "      <td>0.337306</td>\n",
       "      <td>previous3</td>\n",
       "    </tr>\n",
       "    <tr>\n",
       "      <th>10</th>\n",
       "      <td>0.000399</td>\n",
       "      <td>remaining_time</td>\n",
       "    </tr>\n",
       "  </tbody>\n",
       "</table>\n",
       "</div>"
      ],
      "text/plain": [
       "    Coefficients          Variables\n",
       "0       0.062163           dribbles\n",
       "1      -0.097194         touch_time\n",
       "2       0.090547  defender_distance\n",
       "3       0.014925         shot_clock\n",
       "4      -0.001704               dist\n",
       "5      -0.466597              angle\n",
       "6       0.152372             angle2\n",
       "7      -0.136491          previous1\n",
       "8      -0.029647          previous2\n",
       "9       0.337306          previous3\n",
       "10      0.000399     remaining_time"
      ]
     },
     "execution_count": 88,
     "metadata": {},
     "output_type": "execute_result"
    }
   ],
   "source": [
    "coef_df2.head(11)"
   ]
  },
  {
   "cell_type": "code",
   "execution_count": 89,
   "metadata": {
    "collapsed": false
   },
   "outputs": [
    {
     "name": "stdout",
     "output_type": "stream",
     "text": [
      "Accuracy: 0.59925093633\n"
     ]
    }
   ],
   "source": [
    "print('Accuracy:', accuracy_score(y_test, pred2))"
   ]
  },
  {
   "cell_type": "code",
   "execution_count": 94,
   "metadata": {
    "collapsed": false
   },
   "outputs": [
    {
     "name": "stdout",
     "output_type": "stream",
     "text": [
      "0.661069013179 0.689597127146\n"
     ]
    }
   ],
   "source": [
    "precision, recall, thresholds = precision_recall_curve(y_test, lr.predict_proba(X_test)[:, 1])\n",
    "fpr, tpr, thresholds = roc_curve(y_test, lr.predict_proba(X_test)[:, 1])\n",
    "print(auc(recall, precision),auc(fpr, tpr))"
   ]
  },
  {
   "cell_type": "markdown",
   "metadata": {},
   "source": [
    "**Результаты:**\n",
    "\n",
    "1. Точность увеличивается незначительно после включения дополнительных переменных\n",
    "2. Коэффициенты при \"забил 1 и 2 предыдущих\" отрицательны. \"Забил 3\" -- положительный\n",
    "3. Значимы ли эти коэффициенты?\n",
    "4. Какие предельные эффекты?"
   ]
  },
  {
   "cell_type": "markdown",
   "metadata": {},
   "source": [
    "Значимость коэффициентов из R:\n",
    "![title](coefs.png)"
   ]
  },
  {
   "cell_type": "markdown",
   "metadata": {},
   "source": [
    "## 2.1) Стохастический градиентный спуск\n",
    "Попробуем бездумно применить этот метод для логистической модели"
   ]
  },
  {
   "cell_type": "code",
   "execution_count": 95,
   "metadata": {
    "collapsed": false
   },
   "outputs": [
    {
     "name": "stdout",
     "output_type": "stream",
     "text": [
      "Accuracy: 0.52808988764\n"
     ]
    }
   ],
   "source": [
    "lr_sgd = SGDClassifier(loss=\"log\", alpha=1, n_iter=200, fit_intercept=True, random_state=43)\n",
    "lr_sgd.fit(X_train, y_train)\n",
    "preds_sgd = lr_sgd.predict(X_test)\n",
    "print('Accuracy:', accuracy_score(y_test, preds_sgd))"
   ]
  },
  {
   "cell_type": "markdown",
   "metadata": {
    "collapsed": true
   },
   "source": [
    "## 3) Валидация логистической регрессии"
   ]
  },
  {
   "cell_type": "markdown",
   "metadata": {},
   "source": [
    "### 3.1) Shuffle Split\n",
    "Делим выборку на *k* частей и усредняем результаты AUC PRC, AUC ROC"
   ]
  },
  {
   "cell_type": "code",
   "execution_count": 96,
   "metadata": {
    "collapsed": false
   },
   "outputs": [],
   "source": [
    "sp = ShuffleSplit(n_splits=10, test_size=0.30, random_state=88)\n",
    "aucroc = []\n",
    "aucprc = []\n",
    "lr = LogisticRegression()\n",
    "for train_index, test_index in sp.split(train):\n",
    "    lr.fit(train.iloc[train_index], train_y.iloc[train_index])\n",
    "    aucroc.append(roc_auc_score(train_y.iloc[test_index], lr.predict_proba(train.iloc[test_index])[:,1]))\n",
    "    precision, recall, thresholds = precision_recall_curve(train_y.iloc[test_index], lr.predict_proba(train.iloc[test_index])[:, 1])\n",
    "    aucprc.append(auc(recall, precision))"
   ]
  },
  {
   "cell_type": "code",
   "execution_count": 97,
   "metadata": {
    "collapsed": false
   },
   "outputs": [
    {
     "name": "stdout",
     "output_type": "stream",
     "text": [
      "0.660820473849 0.674721564676\n"
     ]
    }
   ],
   "source": [
    "# Результаты увеличиваются незначительно\n",
    "print(np.mean(aucprc), np.mean(aucroc))"
   ]
  },
  {
   "cell_type": "code",
   "execution_count": 98,
   "metadata": {
    "collapsed": false
   },
   "outputs": [
    {
     "name": "stdout",
     "output_type": "stream",
     "text": [
      "0.653363651938 0.667785027953\n"
     ]
    }
   ],
   "source": [
    "# с предыдущими бросками\n",
    "sp = ShuffleSplit(n_splits=10, test_size=0.30, random_state=88)\n",
    "aucroc = []\n",
    "aucprc = []\n",
    "lr = LogisticRegression()\n",
    "for train_index, test_index in sp.split(train2):\n",
    "    lr.fit(train2.iloc[train_index], train2_y.iloc[train_index])\n",
    "    aucroc.append(roc_auc_score(train2_y.iloc[test_index], lr.predict_proba(train2.iloc[test_index])[:,1]))\n",
    "    precision, recall, thresholds = precision_recall_curve(train2_y.iloc[test_index], lr.predict_proba(train2.iloc[test_index])[:, 1])\n",
    "    aucprc.append(auc(recall, precision))\n",
    "    \n",
    "print(np.mean(aucprc), np.mean(aucroc))"
   ]
  },
  {
   "cell_type": "markdown",
   "metadata": {},
   "source": [
    "### 3.2) Стратификация\n",
    "Разбиваем выборку на обучение и тест с сохранением доли реализации различных типов бросков"
   ]
  },
  {
   "cell_type": "code",
   "execution_count": 78,
   "metadata": {
    "collapsed": false
   },
   "outputs": [],
   "source": [
    "sss = StratifiedShuffleSplit(n_splits=10, test_size=0.30, random_state=88)\n",
    "aucroc = []\n",
    "aucprc = []\n",
    "lr = LogisticRegression()\n",
    "for train_index, test_index in sss.split(train, train_y):\n",
    "    lr.fit(train.iloc[train_index], train_y.iloc[train_index])\n",
    "    aucroc.append(roc_auc_score(train_y.iloc[test_index], lr.predict_proba(train.iloc[test_index])[:,1]))\n",
    "    precision, recall, thresholds = precision_recall_curve(train_y.iloc[test_index], lr.predict_proba(train.iloc[test_index])[:, 1])\n",
    "    aucprc.append(auc(recall, precision))"
   ]
  },
  {
   "cell_type": "code",
   "execution_count": 79,
   "metadata": {
    "collapsed": false
   },
   "outputs": [
    {
     "name": "stdout",
     "output_type": "stream",
     "text": [
      "0.638321698201 0.6609375\n"
     ]
    }
   ],
   "source": [
    "print(np.mean(aucprc), np.mean(aucroc))"
   ]
  },
  {
   "cell_type": "code",
   "execution_count": 99,
   "metadata": {
    "collapsed": false
   },
   "outputs": [
    {
     "name": "stdout",
     "output_type": "stream",
     "text": [
      "0.64981101261 0.667378597122\n"
     ]
    }
   ],
   "source": [
    "# с предыдущими бросками\n",
    "sss = StratifiedShuffleSplit(n_splits=10, test_size=0.30, random_state=88)\n",
    "aucroc = []\n",
    "aucprc = []\n",
    "lr = LogisticRegression()\n",
    "for train_index, test_index in sss.split(train2, train2_y):\n",
    "    lr.fit(train2.iloc[train_index], train2_y.iloc[train_index])\n",
    "    aucroc.append(roc_auc_score(train2_y.iloc[test_index], lr.predict_proba(train2.iloc[test_index])[:,1]))\n",
    "    precision, recall, thresholds = precision_recall_curve(train2_y.iloc[test_index], lr.predict_proba(train2.iloc[test_index])[:, 1])\n",
    "    aucprc.append(auc(recall, precision))\n",
    "\n",
    "print(np.mean(aucprc), np.mean(aucroc))"
   ]
  },
  {
   "cell_type": "markdown",
   "metadata": {},
   "source": [
    "### 3.3) K-fold кросс-валидация"
   ]
  },
  {
   "cell_type": "code",
   "execution_count": 80,
   "metadata": {
    "collapsed": true
   },
   "outputs": [],
   "source": [
    "kf = KFold(n_splits=10, shuffle=True, random_state=88)\n",
    "aucroc = []\n",
    "aucprc = []\n",
    "lr = LogisticRegression()\n",
    "for train_index, test_index in kf.split(train):\n",
    "    lr.fit(train.iloc[train_index], train_y.iloc[train_index])\n",
    "    aucroc.append(roc_auc_score(train_y.iloc[test_index], lr.predict_proba(train.iloc[test_index])[:,1]))\n",
    "    precision, recall, thresholds = precision_recall_curve(train_y.iloc[test_index], lr.predict_proba(train.iloc[test_index])[:, 1])\n",
    "    aucprc.append(auc(recall, precision))"
   ]
  },
  {
   "cell_type": "code",
   "execution_count": 81,
   "metadata": {
    "collapsed": false
   },
   "outputs": [
    {
     "name": "stdout",
     "output_type": "stream",
     "text": [
      "0.659278151581 0.680181192609\n"
     ]
    }
   ],
   "source": [
    "print(np.mean(aucprc), np.mean(aucroc))"
   ]
  },
  {
   "cell_type": "code",
   "execution_count": 38,
   "metadata": {
    "collapsed": false
   },
   "outputs": [
    {
     "name": "stdout",
     "output_type": "stream",
     "text": [
      "0.651629846622 0.673159214616\n"
     ]
    }
   ],
   "source": [
    "# с предыдущими бросками\n",
    "kf = KFold(n_splits=10, shuffle=True, random_state=88)\n",
    "aucroc = []\n",
    "aucprc = []\n",
    "lr = LogisticRegression()\n",
    "for train_index, test_index in kf.split(train2):\n",
    "    lr.fit(train2.iloc[train_index], train2_y.iloc[train_index])\n",
    "    aucroc.append(roc_auc_score(train2_y.iloc[test_index], lr.predict_proba(train2.iloc[test_index])[:,1]))\n",
    "    precision, recall, thresholds = precision_recall_curve(train2_y.iloc[test_index], lr.predict_proba(train2.iloc[test_index])[:, 1])\n",
    "    aucprc.append(auc(recall, precision))\n",
    "    \n",
    "print(np.mean(aucprc), np.mean(aucroc))"
   ]
  },
  {
   "cell_type": "markdown",
   "metadata": {},
   "source": [
    "** Мини-вывод **\n",
    "\n",
    "1. Добавление предыдущих бросков не позволило существенно улучшить модель\n",
    "2. Включение в модель квадрата угла и модуля угла улучшило модель "
   ]
  },
  {
   "cell_type": "markdown",
   "metadata": {},
   "source": [
    "## 4) Перебор параметров \n",
    "Чтобы улучшить результаты модели, воспользуемся функцией Grid Search, встроенной в пакет sklearn\n",
    "Эта функция перебирает возможные параметры объектов и оценивает качество модели с помощью выбранного скоринга (я взял ROC AUC)"
   ]
  },
  {
   "cell_type": "code",
   "execution_count": 35,
   "metadata": {
    "collapsed": true
   },
   "outputs": [],
   "source": [
    "from sklearn.model_selection import GridSearchCV\n",
    "processors=1\n",
    "scoring=\"roc_auc\"\n",
    "\n",
    "sss = StratifiedShuffleSplit(n_splits=10, test_size=0.30, random_state=88)\n",
    "ss=sss.split(train2, train2_y)"
   ]
  },
  {
   "cell_type": "code",
   "execution_count": 36,
   "metadata": {
    "collapsed": false
   },
   "outputs": [
    {
     "name": "stdout",
     "output_type": "stream",
     "text": [
      "0.669844593076\n",
      "{'C': 1, 'fit_intercept': True, 'penalty': 'l1', 'warm_start': True}\n"
     ]
    }
   ],
   "source": [
    "lr_grid = GridSearchCV(\n",
    "    estimator = LogisticRegression(random_state=88),\n",
    "    param_grid = {\n",
    "        'penalty': ['l1', 'l2'],\n",
    "        'C': [0.001, 0.01, 1, 10, 100, 1000],\n",
    "        'fit_intercept': [True, False],\n",
    "        'warm_start' : [True, False]\n",
    "    }, \n",
    "    cv = ss, \n",
    "    scoring = scoring, \n",
    "    n_jobs = processors)\n",
    "\n",
    "lr_grid.fit(train2, train2_y)\n",
    "\n",
    "print(lr_grid.best_score_)\n",
    "print(lr_grid.best_params_)"
   ]
  },
  {
   "cell_type": "markdown",
   "metadata": {
    "collapsed": true
   },
   "source": [
    "Таким образом, есть два отличия от предыдущих моделей:\n",
    "\n",
    "1. Warm_start = true\n",
    "2. penalty = lasso (а не ridge)"
   ]
  },
  {
   "cell_type": "code",
   "execution_count": null,
   "metadata": {
    "collapsed": true
   },
   "outputs": [],
   "source": []
  },
  {
   "cell_type": "markdown",
   "metadata": {
    "collapsed": true
   },
   "source": [
    "## KNN"
   ]
  },
  {
   "cell_type": "code",
   "execution_count": 9,
   "metadata": {
    "collapsed": true
   },
   "outputs": [],
   "source": [
    "from sklearn.neighbors import KNeighborsClassifier"
   ]
  },
  {
   "cell_type": "code",
   "execution_count": 12,
   "metadata": {
    "collapsed": false
   },
   "outputs": [
    {
     "data": {
      "text/plain": [
       "KNeighborsClassifier(algorithm='auto', leaf_size=30, metric='minkowski',\n",
       "           metric_params=None, n_jobs=1, n_neighbors=5, p=2,\n",
       "           weights='uniform')"
      ]
     },
     "execution_count": 12,
     "metadata": {},
     "output_type": "execute_result"
    }
   ],
   "source": [
    "kn=KNeighborsClassifier()\n",
    "X_train, X_test, y_train, y_test = train_test_split(train2, train2_y, test_size=0.3, random_state=42)\n",
    "kn.fit(X_train, y_train)"
   ]
  },
  {
   "cell_type": "code",
   "execution_count": 13,
   "metadata": {
    "collapsed": false
   },
   "outputs": [
    {
     "name": "stdout",
     "output_type": "stream",
     "text": [
      "Accuracy: 0.569288389513\n"
     ]
    }
   ],
   "source": [
    "predKN=kn.predict(X_test)\n",
    "print('Accuracy:', accuracy_score(y_test, predKN))"
   ]
  },
  {
   "cell_type": "markdown",
   "metadata": {},
   "source": [
    "## AdaBoost"
   ]
  },
  {
   "cell_type": "code",
   "execution_count": 14,
   "metadata": {
    "collapsed": true
   },
   "outputs": [],
   "source": [
    "from sklearn.ensemble import AdaBoostClassifier"
   ]
  },
  {
   "cell_type": "code",
   "execution_count": 15,
   "metadata": {
    "collapsed": false
   },
   "outputs": [
    {
     "data": {
      "text/plain": [
       "AdaBoostClassifier(algorithm='SAMME.R', base_estimator=None,\n",
       "          learning_rate=0.75, n_estimators=500, random_state=None)"
      ]
     },
     "execution_count": 15,
     "metadata": {},
     "output_type": "execute_result"
    }
   ],
   "source": [
    "ada=AdaBoostClassifier(n_estimators=500, learning_rate=0.75)\n",
    "X_train, X_test, y_train, y_test = train_test_split(train2, train2_y, test_size=0.3, random_state=42)\n",
    "ada.fit(X_train, y_train)"
   ]
  },
  {
   "cell_type": "code",
   "execution_count": 16,
   "metadata": {
    "collapsed": false
   },
   "outputs": [
    {
     "name": "stdout",
     "output_type": "stream",
     "text": [
      "Accuracy: 0.569288389513\n"
     ]
    }
   ],
   "source": [
    "predADA=kn.predict(X_test)\n",
    "print('Accuracy:', accuracy_score(y_test, predADA))"
   ]
  },
  {
   "cell_type": "code",
   "execution_count": null,
   "metadata": {
    "collapsed": true
   },
   "outputs": [],
   "source": []
  }
 ],
 "metadata": {
  "kernelspec": {
   "display_name": "Python 3",
   "language": "python",
   "name": "python3"
  },
  "language_info": {
   "codemirror_mode": {
    "name": "ipython",
    "version": 3
   },
   "file_extension": ".py",
   "mimetype": "text/x-python",
   "name": "python",
   "nbconvert_exporter": "python",
   "pygments_lexer": "ipython3",
   "version": "3.6.0"
  }
 },
 "nbformat": 4,
 "nbformat_minor": 2
}
