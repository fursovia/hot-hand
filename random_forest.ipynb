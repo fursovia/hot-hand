{
 "cells": [
  {
   "cell_type": "markdown",
   "metadata": {},
   "source": [
    "# Cлучайный лес\n",
    "В этой части работы планируется вывести значимые для этого алгоритма признаки"
   ]
  },
  {
   "cell_type": "markdown",
   "metadata": {},
   "source": [
    "## 0) Загрузка пакетов и данных"
   ]
  },
  {
   "cell_type": "code",
   "execution_count": 15,
   "metadata": {
    "collapsed": true
   },
   "outputs": [],
   "source": [
    "import numpy as np\n",
    "import pandas as pd\n",
    "\n",
    "from sklearn.ensemble import RandomForestClassifier\n",
    "from sklearn.metrics import confusion_matrix, roc_auc_score, roc_curve, precision_recall_curve, accuracy_score, auc\n",
    "from sklearn.model_selection import train_test_split, KFold, ShuffleSplit, StratifiedShuffleSplit\n",
    "from sklearn.metrics import recall_score, precision_score\n",
    "\n",
    "import matplotlib.pyplot as plt\n",
    "%matplotlib inline"
   ]
  },
  {
   "cell_type": "code",
   "execution_count": 10,
   "metadata": {
    "collapsed": true
   },
   "outputs": [],
   "source": [
    "raw = pd.read_csv('curry1415.csv', header=0)"
   ]
  },
  {
   "cell_type": "markdown",
   "metadata": {},
   "source": [
    "## 1) Feature engineering "
   ]
  },
  {
   "cell_type": "code",
   "execution_count": 11,
   "metadata": {
    "collapsed": false
   },
   "outputs": [
    {
     "name": "stderr",
     "output_type": "stream",
     "text": [
      "C:\\ProgramData\\Anaconda3\\lib\\site-packages\\ipykernel\\__main__.py:10: SettingWithCopyWarning: \n",
      "A value is trying to be set on a copy of a slice from a DataFrame\n",
      "\n",
      "See the caveats in the documentation: http://pandas.pydata.org/pandas-docs/stable/indexing.html#indexing-view-versus-copy\n",
      "C:\\ProgramData\\Anaconda3\\lib\\site-packages\\ipykernel\\__main__.py:11: SettingWithCopyWarning: \n",
      "A value is trying to be set on a copy of a slice from a DataFrame\n",
      "\n",
      "See the caveats in the documentation: http://pandas.pydata.org/pandas-docs/stable/indexing.html#indexing-view-versus-copy\n"
     ]
    }
   ],
   "source": [
    "# Интересно, есть ли разница для алгоритма между переменными \"координаты\" и \"расстояние\" + \"угол\"?\n",
    "\n",
    "# добавим более точную переменную расстояния\n",
    "raw['dist'] = np.sqrt(raw['x']**2 + raw['y']**2)\n",
    "\n",
    "# введем угол броска\n",
    "\n",
    "loc_x_zero = raw['x'] == 0\n",
    "raw['angle'] = np.array([0]*len(raw))\n",
    "raw['angle'][~loc_x_zero] = np.arctan(raw['y'][~loc_x_zero] / raw['x'][~loc_x_zero])\n",
    "raw['angle'][loc_x_zero] = np.pi / 2 \n",
    "raw['angle']=np.absolute(raw['angle'])\n",
    "raw2=raw.copy()"
   ]
  },
  {
   "cell_type": "code",
   "execution_count": 12,
   "metadata": {
    "collapsed": false
   },
   "outputs": [],
   "source": [
    "# единая переменная оставшегося времени\n",
    "raw['remaining_time'] = raw['minutes_remaining'] * 60 + raw['seconds_remaining']\n",
    "\n",
    "# дропаем ненужные переменные\n",
    "todrop = ['name', 'team_name', 'game_date', 'season', 'espn_player_id', 'team_id', \\\n",
    "          'espn_game_id', 'minutes_remaining', 'seconds_remaining', 'shot_distance', 'x', 'y', 'defender_name']\n",
    "\n",
    "for i in todrop:\n",
    "    raw = raw.drop(i, 1)\n",
    "    \n",
    "# создаем дамми-переменные из категориальных\n",
    "categorical_vars = ['action_type', 'shot_type', 'opponent', 'period']\n",
    "\n",
    "for i in categorical_vars:\n",
    "    raw = pd.concat([raw, pd.get_dummies(raw[i], prefix=i)], 1)\n",
    "    raw = raw.drop(i, 1)\n",
    "    \n",
    "# делим выборку на объясняющие переменные и таргетируемую\n",
    "train = raw.drop('shot_made_flag', 1)\n",
    "train_y = raw['shot_made_flag']"
   ]
  },
  {
   "cell_type": "code",
   "execution_count": 13,
   "metadata": {
    "collapsed": true
   },
   "outputs": [],
   "source": [
    "# отсортируем по времени\n",
    "sorted_raw = raw2.sort_values(['espn_game_id', 'period', 'minutes_remaining', 'seconds_remaining'], ascending=[1, 1, 0, 0])\n",
    "sorted_raw.index=range(len(sorted_raw))\n",
    "\n",
    "sorted_raw['previous1'] = np.zeros(len(sorted_raw)) \n",
    "\n",
    "for i,row in enumerate(sorted_raw[1:].iterrows()):\n",
    "    if i>0:\n",
    "        if sorted_raw.loc[i,'espn_game_id'] == sorted_raw.loc[i-1,'espn_game_id']:\n",
    "            sorted_raw.loc[i,'previous1'] = sorted_raw.loc[i-1,'shot_made_flag']\n",
    "            \n",
    "sorted_raw['previous2'] = np.zeros(len(sorted_raw)) \n",
    "\n",
    "for i,row in enumerate(sorted_raw[1:].iterrows()):\n",
    "    if i>1:\n",
    "        if sorted_raw.loc[i,'espn_game_id'] == sorted_raw.loc[i-1,'espn_game_id'] == sorted_raw.loc[i-2,'espn_game_id']:\n",
    "            if sorted_raw.loc[i-1,'shot_made_flag']==sorted_raw.loc[i-2,'shot_made_flag']==1:\n",
    "                sorted_raw.loc[i,'previous2'] = raw.loc[i-1,'shot_made_flag']\n",
    "                \n",
    "sorted_raw['previous3'] = np.zeros(len(sorted_raw)) \n",
    "\n",
    "for i,row in enumerate(sorted_raw[1:].iterrows()):\n",
    "    if i>2:\n",
    "        if sorted_raw.loc[i,'espn_game_id'] == sorted_raw.loc[i-1,'espn_game_id'] == sorted_raw.loc[i-2,'espn_game_id']== sorted_raw.loc[i-3,'espn_game_id']:\n",
    "            if sorted_raw.loc[i-1,'previous2']==sorted_raw.loc[i,'previous1']==1:\n",
    "                sorted_raw.loc[i,'previous3'] = raw.loc[i-1,'shot_made_flag']\n",
    "                \n",
    "sorted_raw['previous1']=sorted_raw['previous1'].astype(int)\n",
    "sorted_raw['previous2']=sorted_raw['previous2'].astype(int)\n",
    "sorted_raw['previous3']=sorted_raw['previous3'].astype(int)"
   ]
  },
  {
   "cell_type": "code",
   "execution_count": 14,
   "metadata": {
    "collapsed": true
   },
   "outputs": [],
   "source": [
    "sorted_raw['remaining_time'] = sorted_raw['minutes_remaining'] * 60 + sorted_raw['seconds_remaining']\n",
    "# дропаем ненужные переменные\n",
    "todrop = ['name', 'team_name', 'game_date', 'season', 'espn_player_id', 'team_id', \\\n",
    "          'espn_game_id', 'minutes_remaining', 'seconds_remaining', 'shot_distance', 'x', 'y', 'defender_name']\n",
    "\n",
    "for i in todrop:\n",
    "    sorted_raw = sorted_raw.drop(i, 1)\n",
    "\n",
    "# создаем дамми-переменные из категориальных\n",
    "categorical_vars = ['action_type', 'shot_type', 'opponent', 'period']\n",
    "# categorical_vars = ['action_type', 'shot_type', 'opponent', 'period', 'previous1', 'previous2', 'previous3']\n",
    "for i in categorical_vars:\n",
    "    sorted_raw = pd.concat([sorted_raw, pd.get_dummies(sorted_raw[i], prefix=i)], 1)\n",
    "    sorted_raw = sorted_raw.drop(i, 1)\n",
    "# делим выборку на объясняющие переменные и таргетируемую\n",
    "train2 = sorted_raw.drop('shot_made_flag', 1)\n",
    "train2_y = sorted_raw['shot_made_flag']"
   ]
  },
  {
   "cell_type": "markdown",
   "metadata": {},
   "source": [
    "## 2) Случайный лес"
   ]
  },
  {
   "cell_type": "markdown",
   "metadata": {},
   "source": [
    "### 2.1) Без включения предыдущих бросков"
   ]
  },
  {
   "cell_type": "code",
   "execution_count": 46,
   "metadata": {
    "collapsed": true
   },
   "outputs": [],
   "source": [
    "# создаем объект\n",
    "rf = RandomForestClassifier(n_estimators=900, max_depth=70)\n",
    "\n",
    "# рандомно делим выборку\n",
    "X_train, X_test, y_train, y_test = train_test_split(train, train_y, test_size=0.3, random_state=18)\n",
    "\n",
    "# фитим\n",
    "rf.fit(X_train, y_train)\n",
    "pred1 = rf.predict(X_test)"
   ]
  },
  {
   "cell_type": "code",
   "execution_count": 47,
   "metadata": {
    "collapsed": false
   },
   "outputs": [
    {
     "name": "stdout",
     "output_type": "stream",
     "text": [
      "0.625468164794 0.553846153846 0.631578947368 0.590163934426\n"
     ]
    }
   ],
   "source": [
    "pr=precision_score(y_test, pred1)\n",
    "rc=recall_score(y_test, pred1)\n",
    "acc=accuracy_score(y_test, pred1)\n",
    "fmera=2*pr*rc/(pr+rc)\n",
    "print(acc, rc, pr, fmera)"
   ]
  },
  {
   "cell_type": "code",
   "execution_count": 51,
   "metadata": {
    "collapsed": false
   },
   "outputs": [
    {
     "data": {
      "text/html": [
       "<div>\n",
       "<table border=\"1\" class=\"dataframe\">\n",
       "  <thead>\n",
       "    <tr style=\"text-align: right;\">\n",
       "      <th></th>\n",
       "      <th>Random Forest feature importances</th>\n",
       "      <th>features</th>\n",
       "    </tr>\n",
       "  </thead>\n",
       "  <tbody>\n",
       "    <tr>\n",
       "      <th>0</th>\n",
       "      <td>0.119165</td>\n",
       "      <td>dist</td>\n",
       "    </tr>\n",
       "    <tr>\n",
       "      <th>1</th>\n",
       "      <td>0.100746</td>\n",
       "      <td>angle</td>\n",
       "    </tr>\n",
       "    <tr>\n",
       "      <th>2</th>\n",
       "      <td>0.099283</td>\n",
       "      <td>remaining_time</td>\n",
       "    </tr>\n",
       "    <tr>\n",
       "      <th>3</th>\n",
       "      <td>0.095377</td>\n",
       "      <td>defender_distance</td>\n",
       "    </tr>\n",
       "    <tr>\n",
       "      <th>4</th>\n",
       "      <td>0.091979</td>\n",
       "      <td>shot_clock</td>\n",
       "    </tr>\n",
       "    <tr>\n",
       "      <th>5</th>\n",
       "      <td>0.084971</td>\n",
       "      <td>touch_time</td>\n",
       "    </tr>\n",
       "    <tr>\n",
       "      <th>6</th>\n",
       "      <td>0.055551</td>\n",
       "      <td>dribbles</td>\n",
       "    </tr>\n",
       "    <tr>\n",
       "      <th>7</th>\n",
       "      <td>0.037262</td>\n",
       "      <td>action_type_Jump Shot</td>\n",
       "    </tr>\n",
       "    <tr>\n",
       "      <th>8</th>\n",
       "      <td>0.016067</td>\n",
       "      <td>period_3</td>\n",
       "    </tr>\n",
       "    <tr>\n",
       "      <th>9</th>\n",
       "      <td>0.014833</td>\n",
       "      <td>period_1</td>\n",
       "    </tr>\n",
       "  </tbody>\n",
       "</table>\n",
       "</div>"
      ],
      "text/plain": [
       "   Random Forest feature importances               features\n",
       "0                           0.119165                   dist\n",
       "1                           0.100746                  angle\n",
       "2                           0.099283         remaining_time\n",
       "3                           0.095377      defender_distance\n",
       "4                           0.091979             shot_clock\n",
       "5                           0.084971             touch_time\n",
       "6                           0.055551               dribbles\n",
       "7                           0.037262  action_type_Jump Shot\n",
       "8                           0.016067               period_3\n",
       "9                           0.014833               period_1"
      ]
     },
     "execution_count": 51,
     "metadata": {},
     "output_type": "execute_result"
    }
   ],
   "source": [
    "importance1=rf.feature_importances_\n",
    "cols1 = train.columns.values\n",
    "feature_dataframe1 = pd.DataFrame( {'features': cols1,\n",
    "     'Random Forest feature importances': importance1,\n",
    "    })\n",
    "\n",
    "# отсортируем значимость по убыванию\n",
    "sorted_imp1 = feature_dataframe1.sort_values(['Random Forest feature importances'], ascending=0)\n",
    "sorted_imp1.index=range(len(feature_dataframe1))\n",
    "\n",
    "sorted_imp1.head(10)"
   ]
  },
  {
   "cell_type": "markdown",
   "metadata": {},
   "source": [
    "### 2.2) С включением предыдущих бросков"
   ]
  },
  {
   "cell_type": "code",
   "execution_count": 52,
   "metadata": {
    "collapsed": true
   },
   "outputs": [],
   "source": [
    "# создаем объект\n",
    "rf = RandomForestClassifier(n_estimators=900, max_depth=70)\n",
    "\n",
    "# рандомно делим выборку\n",
    "X_train, X_test, y_train, y_test = train_test_split(train2, train2_y, test_size=0.3, random_state=18)\n",
    "\n",
    "# фитим\n",
    "rf.fit(X_train, y_train)\n",
    "pred2 = rf.predict(X_test)"
   ]
  },
  {
   "cell_type": "code",
   "execution_count": 53,
   "metadata": {
    "collapsed": false
   },
   "outputs": [
    {
     "name": "stdout",
     "output_type": "stream",
     "text": [
      "0.653558052434 0.602409638554 0.635593220339 0.618556701031\n"
     ]
    }
   ],
   "source": [
    "pr=precision_score(y_test, pred2)\n",
    "rc=recall_score(y_test, pred2)\n",
    "acc=accuracy_score(y_test, pred2)\n",
    "fmera=2*pr*rc/(pr+rc)\n",
    "print(acc, rc, pr, fmera)"
   ]
  },
  {
   "cell_type": "code",
   "execution_count": 38,
   "metadata": {
    "collapsed": false
   },
   "outputs": [],
   "source": [
    "importance2=rf.feature_importances_\n",
    "cols2 = train2.columns.values\n",
    "feature_dataframe2 = pd.DataFrame( {'features': cols2,\n",
    "     'Random Forest feature importances': importance2,\n",
    "    })\n",
    "\n",
    "# отсортируем значимость по убыванию\n",
    "sorted_imp2 = feature_dataframe2.sort_values(['Random Forest feature importances'], ascending=0)\n",
    "sorted_imp2.index=range(len(feature_dataframe2))\n",
    "\n",
    "#sorted_imp2.head(11)"
   ]
  },
  {
   "cell_type": "markdown",
   "metadata": {},
   "source": [
    "## 3) Оптимизация параметров случайного леса\n",
    "### 3.1) С помощью k-Fold кросс-валидации"
   ]
  },
  {
   "cell_type": "code",
   "execution_count": 39,
   "metadata": {
    "collapsed": false
   },
   "outputs": [
    {
     "name": "stdout",
     "output_type": "stream",
     "text": [
      "[0.4311464150047602, 0.46162683722231745, 0.47043204413665007, 0.46893426471400462, 0.48022855227744471, 0.4838918105275497]\n"
     ]
    }
   ],
   "source": [
    "# без предыдущих бросков\n",
    "av_fm = []\n",
    "range_n = [10, 50, 100, 150, 250, 500]\n",
    "kf = KFold(n_splits=10)\n",
    "for n in range_n:\n",
    "    scores_n = []\n",
    "    rf = RandomForestClassifier(n_estimators=n)\n",
    "    for train_k, test_k in kf.split(train):\n",
    "        rf.fit(train.iloc[train_k], train_y.iloc[train_k])\n",
    "        pred = rf.predict(train.iloc[test_k])  \n",
    "        pr=precision_score(train_y.iloc[test_k], pred)\n",
    "        rc=recall_score(train_y.iloc[test_k], pred)\n",
    "        fmera=2*pr*rc/(pr+rc)\n",
    "        scores_n.append(fmera)\n",
    "    av_fm.append(np.mean(scores_n))\n",
    "print(av_fm)"
   ]
  },
  {
   "cell_type": "code",
   "execution_count": 41,
   "metadata": {
    "collapsed": false
   },
   "outputs": [
    {
     "name": "stdout",
     "output_type": "stream",
     "text": [
      "[0.59851957357797203, 0.60048406425051526, 0.60889392331381453, 0.60396665935973182]\n"
     ]
    }
   ],
   "source": [
    "# с предыдущими бросками \n",
    "av_fm = []\n",
    "range_n = [250, 500, 700, 900]\n",
    "kf = KFold(n_splits=10)\n",
    "for n in range_n:\n",
    "    scores_n = []\n",
    "    rf = RandomForestClassifier(n_estimators=n)\n",
    "    for train_k, test_k in kf.split(train2):\n",
    "        rf.fit(train2.iloc[train_k], train2_y.iloc[train_k])\n",
    "        pred = rf.predict(train2.iloc[test_k])  \n",
    "        pr=precision_score(train2_y.iloc[test_k], pred)\n",
    "        rc=recall_score(train2_y.iloc[test_k], pred)\n",
    "        fmera=2*pr*rc/(pr+rc)\n",
    "        scores_n.append(fmera)\n",
    "    av_fm.append(np.mean(scores_n))\n",
    "print(av_fm)"
   ]
  },
  {
   "cell_type": "markdown",
   "metadata": {},
   "source": [
    "** 700 ** деревьев -- самое то"
   ]
  },
  {
   "cell_type": "code",
   "execution_count": 44,
   "metadata": {
    "collapsed": false
   },
   "outputs": [
    {
     "name": "stdout",
     "output_type": "stream",
     "text": [
      "[0.46485224925039237, 0.52908906889627516, 0.5825767953236195, 0.5974461306443779, 0.60134996821003539, 0.6029118673161703, 0.61014036004979899]\n"
     ]
    }
   ],
   "source": [
    "# с предыдущими бросками \n",
    "av_fm = []\n",
    "range_m = [2,4,8,10,20,50, 70]\n",
    "kf = KFold(n_splits=10)\n",
    "for m in range_m:\n",
    "    scores_m = []\n",
    "    rf = RandomForestClassifier(n_estimators=700, max_depth=m)\n",
    "    for train_k, test_k in kf.split(train2):\n",
    "        rf.fit(train2.iloc[train_k], train2_y.iloc[train_k])\n",
    "        pred = rf.predict(train2.iloc[test_k])  \n",
    "        pr=precision_score(train2_y.iloc[test_k], pred)\n",
    "        rc=recall_score(train2_y.iloc[test_k], pred)\n",
    "        fmera=2*pr*rc/(pr+rc)\n",
    "        scores_m.append(fmera)\n",
    "    av_fm.append(np.mean(scores_m))\n",
    "print(av_fm)"
   ]
  },
  {
   "cell_type": "markdown",
   "metadata": {},
   "source": [
    "** 50 ** -- самое то, для максимальной глубины"
   ]
  },
  {
   "cell_type": "markdown",
   "metadata": {},
   "source": [
    "### 3.2) С помощью стратификации"
   ]
  },
  {
   "cell_type": "code",
   "execution_count": 42,
   "metadata": {
    "collapsed": false
   },
   "outputs": [
    {
     "name": "stdout",
     "output_type": "stream",
     "text": [
      "[0.59193918336215068, 0.60072406257091482, 0.60274302123278978, 0.6021340363832679, 0.60731108718784454, 0.60813844611446277]\n"
     ]
    }
   ],
   "source": [
    "# с предыдущими бросками \n",
    "av_fm = []\n",
    "range_n = [50, 100, 250, 500, 700, 900]\n",
    "sss = StratifiedShuffleSplit(n_splits=10, test_size=0.30, random_state=88)\n",
    "for n in range_n:\n",
    "    scores_n = []\n",
    "    rf = RandomForestClassifier(n_estimators=n)\n",
    "    for train_k, test_k in sss.split(train2, train2_y):\n",
    "        rf.fit(train2.iloc[train_k], train2_y.iloc[train_k])\n",
    "        pred = rf.predict(train2.iloc[test_k])  \n",
    "        pr=precision_score(train2_y.iloc[test_k], pred)\n",
    "        rc=recall_score(train2_y.iloc[test_k], pred)\n",
    "        fmera=2*pr*rc/(pr+rc)\n",
    "        scores_n.append(fmera)\n",
    "    av_fm.append(np.mean(scores_n))\n",
    "print(av_fm)"
   ]
  },
  {
   "cell_type": "markdown",
   "metadata": {},
   "source": [
    "** 900 ** деревьев -- самое то"
   ]
  },
  {
   "cell_type": "code",
   "execution_count": 45,
   "metadata": {
    "collapsed": false
   },
   "outputs": [
    {
     "name": "stdout",
     "output_type": "stream",
     "text": [
      "[0.49538072398341904, 0.55213517706095572, 0.59491710188266522, 0.59979558893504792, 0.60741186020291926, 0.60267394785216344, 0.60819621092883325]\n"
     ]
    }
   ],
   "source": [
    "# с предыдущими бросками \n",
    "# глубина деревьев\n",
    "av_fm = []\n",
    "range_m = [2,4,8,10,20,50, 70]\n",
    "sss = StratifiedShuffleSplit(n_splits=10, test_size=0.30, random_state=88)\n",
    "for m in range_m:\n",
    "    scores_m = []\n",
    "    rf = RandomForestClassifier(n_estimators=700, max_depth=m)\n",
    "    for train_k, test_k in sss.split(train2, train2_y):\n",
    "        rf.fit(train2.iloc[train_k], train2_y.iloc[train_k])\n",
    "        pred = rf.predict(train2.iloc[test_k])  \n",
    "        pr=precision_score(train2_y.iloc[test_k], pred)\n",
    "        rc=recall_score(train2_y.iloc[test_k], pred)\n",
    "        fmera=2*pr*rc/(pr+rc)\n",
    "        scores_m.append(fmera)\n",
    "    av_fm.append(np.mean(scores_m))\n",
    "print(av_fm)"
   ]
  },
  {
   "cell_type": "markdown",
   "metadata": {},
   "source": [
    "** 70 ** -- самое то для глубины дерева"
   ]
  },
  {
   "cell_type": "markdown",
   "metadata": {
    "collapsed": true
   },
   "source": [
    "## 4) Валидация\n",
    "### 4.1) Shuffle Split"
   ]
  },
  {
   "cell_type": "code",
   "execution_count": 54,
   "metadata": {
    "collapsed": false
   },
   "outputs": [
    {
     "name": "stdout",
     "output_type": "stream",
     "text": [
      "0.598807864749\n"
     ]
    }
   ],
   "source": [
    "# без предыдущих бросков\n",
    "sp = ShuffleSplit(n_splits=10, test_size=0.30, random_state=88)\n",
    "score=[]\n",
    "rf = RandomForestClassifier(n_estimators=900, max_depth=70)\n",
    "for train_index, test_index in sp.split(train):\n",
    "    rf.fit(train.iloc[train_index], train_y.iloc[train_index])\n",
    "    pred=rf.predict(train.iloc[test_index])\n",
    "    pr=precision_score(train_y.iloc[test_index], pred)\n",
    "    rc=recall_score(train_y.iloc[test_index], pred)\n",
    "    fmera=2*pr*rc/(pr+rc)\n",
    "    score.append(fmera)\n",
    "print(np.mean(score))"
   ]
  },
  {
   "cell_type": "code",
   "execution_count": 55,
   "metadata": {
    "collapsed": false
   },
   "outputs": [
    {
     "name": "stdout",
     "output_type": "stream",
     "text": [
      "0.596379518008\n"
     ]
    }
   ],
   "source": [
    "# с предыдущими бросками\n",
    "sp = ShuffleSplit(n_splits=10, test_size=0.30, random_state=88)\n",
    "score=[]\n",
    "rf = RandomForestClassifier(n_estimators=900, max_depth=70)\n",
    "for train_index, test_index in sp.split(train2):\n",
    "    rf.fit(train2.iloc[train_index], train2_y.iloc[train_index])\n",
    "    pred=rf.predict(train2.iloc[test_index])\n",
    "    pr=precision_score(train2_y.iloc[test_index], pred)\n",
    "    rc=recall_score(train2_y.iloc[test_index], pred)\n",
    "    fmera=2*pr*rc/(pr+rc)\n",
    "    score.append(fmera)\n",
    "print(np.mean(score))"
   ]
  },
  {
   "cell_type": "markdown",
   "metadata": {},
   "source": [
    "### 4.2) Стратификация"
   ]
  },
  {
   "cell_type": "code",
   "execution_count": 57,
   "metadata": {
    "collapsed": false
   },
   "outputs": [
    {
     "name": "stdout",
     "output_type": "stream",
     "text": [
      "0.59241826272\n"
     ]
    }
   ],
   "source": [
    "# без предыдущих бросков\n",
    "sss = StratifiedShuffleSplit(n_splits=10, test_size=0.30, random_state=88)\n",
    "score=[]\n",
    "rf = RandomForestClassifier(n_estimators=900, max_depth=70)\n",
    "for train_index, test_index in sss.split(train, train_y):\n",
    "    rf.fit(train.iloc[train_index], train_y.iloc[train_index])\n",
    "    pred=rf.predict(train.iloc[test_index])\n",
    "    pr=precision_score(train_y.iloc[test_index], pred)\n",
    "    rc=recall_score(train_y.iloc[test_index], pred)\n",
    "    fmera=2*pr*rc/(pr+rc)\n",
    "    score.append(fmera)\n",
    "print(np.mean(score))"
   ]
  },
  {
   "cell_type": "code",
   "execution_count": 59,
   "metadata": {
    "collapsed": false
   },
   "outputs": [
    {
     "name": "stdout",
     "output_type": "stream",
     "text": [
      "0.608123915828\n"
     ]
    }
   ],
   "source": [
    "# с предыдущими бросками\n",
    "sss = StratifiedShuffleSplit(n_splits=10, test_size=0.30, random_state=88)\n",
    "score=[]\n",
    "rf = RandomForestClassifier(n_estimators=900, max_depth=70)\n",
    "for train_index, test_index in sss.split(train2, train2_y):\n",
    "    rf.fit(train2.iloc[train_index], train2_y.iloc[train_index])\n",
    "    pred=rf.predict(train2.iloc[test_index])\n",
    "    pr=precision_score(train2_y.iloc[test_index], pred)\n",
    "    rc=recall_score(train2_y.iloc[test_index], pred)\n",
    "    fmera=2*pr*rc/(pr+rc)\n",
    "    score.append(fmera)\n",
    "print(np.mean(score))"
   ]
  },
  {
   "cell_type": "markdown",
   "metadata": {},
   "source": [
    "### 4.3) K-fold"
   ]
  },
  {
   "cell_type": "code",
   "execution_count": 60,
   "metadata": {
    "collapsed": false
   },
   "outputs": [
    {
     "name": "stdout",
     "output_type": "stream",
     "text": [
      "0.612660736904\n"
     ]
    }
   ],
   "source": [
    "# без предыдущих бросков\n",
    "kf = KFold(n_splits=10, shuffle=True, random_state=88)\n",
    "score=[]\n",
    "rf = RandomForestClassifier(n_estimators=900, max_depth=70)\n",
    "for train_index, test_index in kf.split(train):\n",
    "    rf.fit(train.iloc[train_index], train_y.iloc[train_index])\n",
    "    pred=rf.predict(train.iloc[test_index])\n",
    "    pr=precision_score(train_y.iloc[test_index], pred)\n",
    "    rc=recall_score(train_y.iloc[test_index], pred)\n",
    "    fmera=2*pr*rc/(pr+rc)\n",
    "    score.append(fmera)\n",
    "print(np.mean(score))"
   ]
  },
  {
   "cell_type": "code",
   "execution_count": 61,
   "metadata": {
    "collapsed": false
   },
   "outputs": [
    {
     "name": "stdout",
     "output_type": "stream",
     "text": [
      "0.604203443811\n"
     ]
    }
   ],
   "source": [
    "# с предыдущими бросками\n",
    "kf = KFold(n_splits=10, shuffle=True, random_state=88)\n",
    "score=[]\n",
    "rf = RandomForestClassifier(n_estimators=900, max_depth=70)\n",
    "for train_index, test_index in kf.split(train2):\n",
    "    rf.fit(train2.iloc[train_index], train2_y.iloc[train_index])\n",
    "    pred=rf.predict(train2.iloc[test_index])\n",
    "    pr=precision_score(train2_y.iloc[test_index], pred)\n",
    "    rc=recall_score(train2_y.iloc[test_index], pred)\n",
    "    fmera=2*pr*rc/(pr+rc)\n",
    "    score.append(fmera)\n",
    "print(np.mean(score))"
   ]
  },
  {
   "cell_type": "code",
   "execution_count": null,
   "metadata": {
    "collapsed": true
   },
   "outputs": [],
   "source": []
  }
 ],
 "metadata": {
  "kernelspec": {
   "display_name": "Python 3",
   "language": "python",
   "name": "python3"
  },
  "language_info": {
   "codemirror_mode": {
    "name": "ipython",
    "version": 3
   },
   "file_extension": ".py",
   "mimetype": "text/x-python",
   "name": "python",
   "nbconvert_exporter": "python",
   "pygments_lexer": "ipython3",
   "version": "3.6.0"
  }
 },
 "nbformat": 4,
 "nbformat_minor": 2
}
