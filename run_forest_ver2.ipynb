{
 "cells": [
  {
   "cell_type": "markdown",
   "metadata": {},
   "source": [
    "# Случайные деревья\n",
    "Идея: проверить значимость переменных \"забил предыдущий\", \"забил два предыдущих\" и тд"
   ]
  },
  {
   "cell_type": "code",
   "execution_count": 15,
   "metadata": {
    "collapsed": false
   },
   "outputs": [],
   "source": [
    "import numpy as np\n",
    "import pandas as pd\n",
    "\n",
    "from sklearn.ensemble import RandomForestClassifier # случайный лес\n",
    "from sklearn.model_selection import KFold\n",
    "from sklearn.metrics import roc_auc_score # AUC для оценки качества модели\n",
    "from sklearn.metrics import confusion_matrix # для определения FP, FN, TP, TN\n",
    "from sklearn.model_selection import train_test_split \n",
    "\n",
    "import matplotlib.pyplot as plt\n",
    "%matplotlib inline"
   ]
  },
  {
   "cell_type": "code",
   "execution_count": 2,
   "metadata": {
    "collapsed": true
   },
   "outputs": [],
   "source": [
    "raw = pd.read_csv('curry1415.csv', header=0)"
   ]
  },
  {
   "cell_type": "code",
   "execution_count": 3,
   "metadata": {
    "collapsed": false
   },
   "outputs": [
    {
     "name": "stderr",
     "output_type": "stream",
     "text": [
      "C:\\Program Files\\Anaconda3\\lib\\site-packages\\ipykernel\\__main__.py:9: SettingWithCopyWarning: \n",
      "A value is trying to be set on a copy of a slice from a DataFrame\n",
      "\n",
      "See the caveats in the documentation: http://pandas.pydata.org/pandas-docs/stable/indexing.html#indexing-view-versus-copy\n",
      "C:\\Program Files\\Anaconda3\\lib\\site-packages\\ipykernel\\__main__.py:10: SettingWithCopyWarning: \n",
      "A value is trying to be set on a copy of a slice from a DataFrame\n",
      "\n",
      "See the caveats in the documentation: http://pandas.pydata.org/pandas-docs/stable/indexing.html#indexing-view-versus-copy\n"
     ]
    }
   ],
   "source": [
    "# Интересно, есть ли разница для алгоритма между переменными \"координаты\" и \"расстояние\" + \"угол\"?\n",
    "# добавим более точную переменную расстояния\n",
    "raw['dist'] = np.sqrt(raw['x']**2 + raw['y']**2)\n",
    "\n",
    "# введем угол броска\n",
    "\n",
    "loc_x_zero = raw['x'] == 0\n",
    "raw['angle'] = np.array([0]*len(raw))\n",
    "raw['angle'][~loc_x_zero] = np.arctan(raw['y'][~loc_x_zero] / raw['x'][~loc_x_zero])\n",
    "raw['angle'][loc_x_zero] = np.pi / 2 "
   ]
  },
  {
   "cell_type": "code",
   "execution_count": 5,
   "metadata": {
    "collapsed": false
   },
   "outputs": [],
   "source": [
    "# единая переменная оставшегося времени\n",
    "raw['remaining_time'] = raw['minutes_remaining'] * 60 + raw['seconds_remaining']"
   ]
  },
  {
   "cell_type": "code",
   "execution_count": 6,
   "metadata": {
    "collapsed": true
   },
   "outputs": [],
   "source": [
    "# дропаем ненужные переменные\n",
    "todrop = ['name', 'team_name', 'game_date', 'season', 'espn_player_id', 'team_id', \\\n",
    "          'espn_game_id', 'minutes_remaining', 'seconds_remaining', 'shot_distance', 'x', 'y', 'defender_name']\n",
    "\n",
    "for i in todrop:\n",
    "    raw = raw.drop(i, 1)"
   ]
  },
  {
   "cell_type": "code",
   "execution_count": 7,
   "metadata": {
    "collapsed": false
   },
   "outputs": [],
   "source": [
    "# создаем дамми-переменные из категориальных\n",
    "categorical_vars = ['action_type', 'shot_type', 'opponent', 'period']\n",
    "\n",
    "for i in categorical_vars:\n",
    "    raw = pd.concat([raw, pd.get_dummies(raw[i], prefix=i)], 1)\n",
    "    raw = raw.drop(i, 1)"
   ]
  },
  {
   "cell_type": "code",
   "execution_count": 8,
   "metadata": {
    "collapsed": true
   },
   "outputs": [],
   "source": [
    "# делим выборку на объясняющие переменные и таргетируемую\n",
    "train = raw.drop('shot_made_flag', 1)\n",
    "train_y = raw['shot_made_flag']"
   ]
  },
  {
   "cell_type": "markdown",
   "metadata": {},
   "source": [
    "## Рандомное разделение выборки\n",
    "just for fun попробуем рандомно разделить выборку и  прогнать алгоритм случайного леса. "
   ]
  },
  {
   "cell_type": "code",
   "execution_count": 9,
   "metadata": {
    "collapsed": false
   },
   "outputs": [],
   "source": [
    "X_train, X_test, y_train, y_test = train_test_split(train, train_y, test_size=0.3, random_state=0)"
   ]
  },
  {
   "cell_type": "code",
   "execution_count": 40,
   "metadata": {
    "collapsed": true
   },
   "outputs": [],
   "source": [
    "rfc = RandomForestClassifier(n_estimators=150, max_depth=20)\n",
    "rfc.fit(X_train, y_train)\n",
    "pred=rfc.predict(X_test)"
   ]
  },
  {
   "cell_type": "code",
   "execution_count": 41,
   "metadata": {
    "collapsed": false
   },
   "outputs": [
    {
     "name": "stdout",
     "output_type": "stream",
     "text": [
      "0.606741573034 0.66028708134 0.498194945848 0.567901234568\n"
     ]
    }
   ],
   "source": [
    "# Найдем самые простые оценки качества модели\n",
    "a=confusion_matrix(y_test, pred)\n",
    "acc=(a[0][0]+a[1][1])/len(y_test)\n",
    "pr=a[1][1]/(a[1][1]+a[0][1])\n",
    "rc=a[1][1]/(a[1][1]+a[1][0])\n",
    "fmera=2*pr*rc/(pr+rc)\n",
    "print(acc, pr, rc, fmera)"
   ]
  },
  {
   "cell_type": "markdown",
   "metadata": {},
   "source": [
    "Результаты не очень хорошие. Алгоритм плохо предсказывает действительность"
   ]
  },
  {
   "cell_type": "markdown",
   "metadata": {},
   "source": [
    "## Оптимизация параметров леса с k-fold кросс-валидацией"
   ]
  },
  {
   "cell_type": "code",
   "execution_count": 33,
   "metadata": {
    "collapsed": false
   },
   "outputs": [
    {
     "name": "stdout",
     "output_type": "stream",
     "text": [
      "[0.55913978494623651, 0.5490196078431373, 0.61032863849765251, 0.56481481481481488, 0.56221198156682028, 0.59259259259259256]\n"
     ]
    }
   ],
   "source": [
    "scores_n = []\n",
    "range_n = [10, 50, 100, 150, 250, 500]\n",
    "kf = KFold(n_splits=10)\n",
    "for n in range_n:    \n",
    "    rfc = RandomForestClassifier(n_estimators=n)\n",
    "    for train_k, test_k in kf.split(train):\n",
    "        rfc.fit(train.iloc[train_k], train_y.iloc[train_k])\n",
    "        pred = rfc.predict(train.iloc[test_k])\n",
    "        a=confusion_matrix(train_y[test_k], pred)\n",
    "        pr=a[1][1]/(a[1][1]+a[0][1])\n",
    "        rc=a[1][1]/(a[1][1]+a[1][0])\n",
    "        fmera=2*pr*rc/(pr+rc)\n",
    "    scores_n.append(fmera)\n",
    "print(scores_n)"
   ]
  },
  {
   "cell_type": "markdown",
   "metadata": {},
   "source": [
    "Таким образом, судя по F-мере, лучшее число деревьев равно 100"
   ]
  },
  {
   "cell_type": "code",
   "execution_count": 37,
   "metadata": {
    "collapsed": false
   },
   "outputs": [
    {
     "name": "stderr",
     "output_type": "stream",
     "text": [
      "C:\\Program Files\\Anaconda3\\lib\\site-packages\\ipykernel\\__main__.py:10: RuntimeWarning: invalid value encountered in long_scalars\n",
      "C:\\Program Files\\Anaconda3\\lib\\site-packages\\ipykernel\\__main__.py:10: RuntimeWarning: invalid value encountered in long_scalars\n",
      "C:\\Program Files\\Anaconda3\\lib\\site-packages\\ipykernel\\__main__.py:10: RuntimeWarning: invalid value encountered in long_scalars\n",
      "C:\\Program Files\\Anaconda3\\lib\\site-packages\\ipykernel\\__main__.py:10: RuntimeWarning: invalid value encountered in long_scalars\n",
      "C:\\Program Files\\Anaconda3\\lib\\site-packages\\ipykernel\\__main__.py:10: RuntimeWarning: invalid value encountered in long_scalars\n",
      "C:\\Program Files\\Anaconda3\\lib\\site-packages\\ipykernel\\__main__.py:10: RuntimeWarning: invalid value encountered in long_scalars\n",
      "C:\\Program Files\\Anaconda3\\lib\\site-packages\\ipykernel\\__main__.py:10: RuntimeWarning: invalid value encountered in long_scalars\n"
     ]
    },
    {
     "name": "stdout",
     "output_type": "stream",
     "text": [
      "[0.32116788321167883, 0.39759036144578319, 0.56603773584905659, 0.57142857142857151, 0.61682242990654212, 0.56872037914691942]\n"
     ]
    }
   ],
   "source": [
    "scores_m = []\n",
    "range_m = [2,4,8,10,20,50]\n",
    "kf = KFold(n_splits=10)\n",
    "for m in range_m:\n",
    "    rfc = RandomForestClassifier(max_depth=m, n_estimators=100)\n",
    "    for train_k, test_k in kf.split(train):\n",
    "        rfc.fit(train.iloc[train_k], train_y.iloc[train_k])\n",
    "        pred = rfc.predict(train.iloc[test_k])\n",
    "        a=confusion_matrix(train_y[test_k], pred)\n",
    "        pr=a[1][1]/(a[1][1]+a[0][1])\n",
    "        rc=a[1][1]/(a[1][1]+a[1][0])\n",
    "        fmera=2*pr*rc/(pr+rc)\n",
    "    scores_m.append(fmera)\n",
    "print(scores_m)"
   ]
  },
  {
   "cell_type": "markdown",
   "metadata": {},
   "source": [
    "Судя по F-мере, лучший параметр максимальной глубины деревьев равен 20"
   ]
  },
  {
   "cell_type": "code",
   "execution_count": null,
   "metadata": {
    "collapsed": true
   },
   "outputs": [],
   "source": []
  }
 ],
 "metadata": {
  "anaconda-cloud": {},
  "kernelspec": {
   "display_name": "Python [default]",
   "language": "python",
   "name": "python3"
  },
  "language_info": {
   "codemirror_mode": {
    "name": "ipython",
    "version": 3
   },
   "file_extension": ".py",
   "mimetype": "text/x-python",
   "name": "python",
   "nbconvert_exporter": "python",
   "pygments_lexer": "ipython3",
   "version": "3.5.2"
  }
 },
 "nbformat": 4,
 "nbformat_minor": 1
}
