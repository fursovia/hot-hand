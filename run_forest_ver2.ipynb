{
 "cells": [
  {
   "cell_type": "markdown",
   "metadata": {},
   "source": [
    "# Случайные деревья\n",
    "Идея: проверить значимость переменных \"забил предыдущий\", \"забил два предыдущих\" и тд"
   ]
  },
  {
   "cell_type": "markdown",
   "metadata": {},
   "source": [
    "### TO-DO list\n",
    "* Попробовать другой критерий расщепления (энтропийный)\n",
    "* Поиграть с параметрами случайного леса (помимо максимальной глубины и количества деревьев)"
   ]
  },
  {
   "cell_type": "code",
   "execution_count": 62,
   "metadata": {
    "collapsed": false
   },
   "outputs": [],
   "source": [
    "import numpy as np\n",
    "import pandas as pd\n",
    "\n",
    "from sklearn.ensemble import RandomForestClassifier # случайный лес\n",
    "from sklearn.model_selection import KFold # k-fold кросс-валидация\n",
    "from sklearn.metrics import roc_auc_score # AUC для оценки качества модели\n",
    "from sklearn.metrics import confusion_matrix # для определения FP, FN, TP, TN\n",
    "from sklearn.model_selection import train_test_split # случайное разделение выборки\n",
    "\n",
    "import matplotlib.pyplot as plt\n",
    "%matplotlib inline"
   ]
  },
  {
   "cell_type": "code",
   "execution_count": 63,
   "metadata": {
    "collapsed": true
   },
   "outputs": [],
   "source": [
    "raw = pd.read_csv('curry1415.csv', header=0)"
   ]
  },
  {
   "cell_type": "code",
   "execution_count": 64,
   "metadata": {
    "collapsed": false
   },
   "outputs": [
    {
     "name": "stderr",
     "output_type": "stream",
     "text": [
      "C:\\Program Files\\Anaconda3\\lib\\site-packages\\ipykernel\\__main__.py:9: SettingWithCopyWarning: \n",
      "A value is trying to be set on a copy of a slice from a DataFrame\n",
      "\n",
      "See the caveats in the documentation: http://pandas.pydata.org/pandas-docs/stable/indexing.html#indexing-view-versus-copy\n",
      "C:\\Program Files\\Anaconda3\\lib\\site-packages\\ipykernel\\__main__.py:10: SettingWithCopyWarning: \n",
      "A value is trying to be set on a copy of a slice from a DataFrame\n",
      "\n",
      "See the caveats in the documentation: http://pandas.pydata.org/pandas-docs/stable/indexing.html#indexing-view-versus-copy\n"
     ]
    }
   ],
   "source": [
    "# Интересно, есть ли разница для алгоритма между переменными \"координаты\" и \"расстояние\" + \"угол\"?\n",
    "# добавим более точную переменную расстояния\n",
    "raw['dist'] = np.sqrt(raw['x']**2 + raw['y']**2)\n",
    "\n",
    "# введем угол броска\n",
    "\n",
    "loc_x_zero = raw['x'] == 0\n",
    "raw['angle'] = np.array([0]*len(raw))\n",
    "raw['angle'][~loc_x_zero] = np.arctan(raw['y'][~loc_x_zero] / raw['x'][~loc_x_zero])\n",
    "raw['angle'][loc_x_zero] = np.pi / 2 "
   ]
  },
  {
   "cell_type": "code",
   "execution_count": 65,
   "metadata": {
    "collapsed": false
   },
   "outputs": [],
   "source": [
    "# единая переменная оставшегося времени\n",
    "raw2=raw.copy()\n",
    "raw['remaining_time'] = raw['minutes_remaining'] * 60 + raw['seconds_remaining']"
   ]
  },
  {
   "cell_type": "code",
   "execution_count": 66,
   "metadata": {
    "collapsed": true
   },
   "outputs": [],
   "source": [
    "# дропаем ненужные переменные\n",
    "todrop = ['name', 'team_name', 'game_date', 'season', 'espn_player_id', 'team_id', \\\n",
    "          'espn_game_id', 'minutes_remaining', 'seconds_remaining', 'shot_distance', 'x', 'y', 'defender_name']\n",
    "\n",
    "for i in todrop:\n",
    "    raw = raw.drop(i, 1)"
   ]
  },
  {
   "cell_type": "code",
   "execution_count": 67,
   "metadata": {
    "collapsed": false
   },
   "outputs": [],
   "source": [
    "# создаем дамми-переменные из категориальных\n",
    "categorical_vars = ['action_type', 'shot_type', 'opponent', 'period']\n",
    "\n",
    "for i in categorical_vars:\n",
    "    raw = pd.concat([raw, pd.get_dummies(raw[i], prefix=i)], 1)\n",
    "    raw = raw.drop(i, 1)"
   ]
  },
  {
   "cell_type": "code",
   "execution_count": 68,
   "metadata": {
    "collapsed": true
   },
   "outputs": [],
   "source": [
    "# делим выборку на объясняющие переменные и таргетируемую\n",
    "train = raw.drop('shot_made_flag', 1)\n",
    "train_y = raw['shot_made_flag']"
   ]
  },
  {
   "cell_type": "markdown",
   "metadata": {},
   "source": [
    "## Рандомное разделение выборки\n",
    "just for fun попробуем рандомно разделить выборку и  прогнать алгоритм случайного леса. "
   ]
  },
  {
   "cell_type": "code",
   "execution_count": 130,
   "metadata": {
    "collapsed": false
   },
   "outputs": [],
   "source": [
    "X_train, X_test, y_train, y_test = train_test_split(train, train_y, test_size=0.3, random_state=0)"
   ]
  },
  {
   "cell_type": "code",
   "execution_count": 131,
   "metadata": {
    "collapsed": true
   },
   "outputs": [],
   "source": [
    "rfc = RandomForestClassifier(n_estimators=150, max_depth=20)\n",
    "rfc.fit(X_train, y_train)\n",
    "pred=rfc.predict(X_test)"
   ]
  },
  {
   "cell_type": "code",
   "execution_count": 132,
   "metadata": {
    "collapsed": false
   },
   "outputs": [
    {
     "name": "stdout",
     "output_type": "stream",
     "text": [
      "0.593632958801 0.644230769231 0.483754512635 0.552577319588\n"
     ]
    }
   ],
   "source": [
    "# Найдем самые простые оценки качества модели\n",
    "a=confusion_matrix(y_test, pred)\n",
    "acc=(a[0][0]+a[1][1])/len(y_test)\n",
    "pr=a[1][1]/(a[1][1]+a[0][1])\n",
    "rc=a[1][1]/(a[1][1]+a[1][0])\n",
    "fmera=2*pr*rc/(pr+rc)\n",
    "alg1=[acc, pr, rc, fmera]\n",
    "print(acc, pr, rc, fmera)"
   ]
  },
  {
   "cell_type": "markdown",
   "metadata": {},
   "source": [
    "Результаты не очень хорошие. Алгоритм плохо предсказывает действительность"
   ]
  },
  {
   "cell_type": "markdown",
   "metadata": {},
   "source": [
    "## Оптимизация параметров леса с k-fold кросс-валидацией"
   ]
  },
  {
   "cell_type": "code",
   "execution_count": 72,
   "metadata": {
    "collapsed": false
   },
   "outputs": [
    {
     "name": "stdout",
     "output_type": "stream",
     "text": [
      "[0.52972972972972976, 0.60999999999999999, 0.6133333333333334, 0.60909090909090913, 0.60633484162895934, 0.59907834101382496]\n"
     ]
    }
   ],
   "source": [
    "scores_n = []\n",
    "range_n = [10, 50, 100, 150, 250, 500]\n",
    "kf = KFold(n_splits=10)\n",
    "for n in range_n:    \n",
    "    rfc = RandomForestClassifier(n_estimators=n)\n",
    "    for train_k, test_k in kf.split(train):\n",
    "        rfc.fit(train.iloc[train_k], train_y.iloc[train_k])\n",
    "        pred = rfc.predict(train.iloc[test_k])\n",
    "        a=confusion_matrix(train_y[test_k], pred)\n",
    "        pr=a[1][1]/(a[1][1]+a[0][1])\n",
    "        rc=a[1][1]/(a[1][1]+a[1][0])\n",
    "        fmera=2*pr*rc/(pr+rc)\n",
    "    scores_n.append(fmera)\n",
    "print(scores_n)"
   ]
  },
  {
   "cell_type": "markdown",
   "metadata": {},
   "source": [
    "Таким образом, судя по F-мере, лучшее число деревьев равно 100"
   ]
  },
  {
   "cell_type": "code",
   "execution_count": 73,
   "metadata": {
    "collapsed": false
   },
   "outputs": [
    {
     "name": "stderr",
     "output_type": "stream",
     "text": [
      "C:\\Program Files\\Anaconda3\\lib\\site-packages\\ipykernel\\__main__.py:10: RuntimeWarning: invalid value encountered in long_scalars\n",
      "C:\\Program Files\\Anaconda3\\lib\\site-packages\\ipykernel\\__main__.py:10: RuntimeWarning: invalid value encountered in long_scalars\n",
      "C:\\Program Files\\Anaconda3\\lib\\site-packages\\ipykernel\\__main__.py:10: RuntimeWarning: invalid value encountered in long_scalars\n",
      "C:\\Program Files\\Anaconda3\\lib\\site-packages\\ipykernel\\__main__.py:10: RuntimeWarning: invalid value encountered in long_scalars\n",
      "C:\\Program Files\\Anaconda3\\lib\\site-packages\\ipykernel\\__main__.py:10: RuntimeWarning: invalid value encountered in long_scalars\n",
      "C:\\Program Files\\Anaconda3\\lib\\site-packages\\ipykernel\\__main__.py:12: RuntimeWarning: invalid value encountered in double_scalars\n"
     ]
    },
    {
     "name": "stdout",
     "output_type": "stream",
     "text": [
      "[0.34042553191489361, 0.47311827956989244, 0.54450261780104714, 0.5490196078431373, 0.57943925233644866, 0.60747663551401865]\n"
     ]
    }
   ],
   "source": [
    "scores_m = []\n",
    "range_m = [2,4,8,10,20,50]\n",
    "kf = KFold(n_splits=10)\n",
    "for m in range_m:\n",
    "    rfc = RandomForestClassifier(max_depth=m, n_estimators=100)\n",
    "    for train_k, test_k in kf.split(train):\n",
    "        rfc.fit(train.iloc[train_k], train_y.iloc[train_k])\n",
    "        pred = rfc.predict(train.iloc[test_k])\n",
    "        a=confusion_matrix(train_y[test_k], pred)\n",
    "        pr=a[1][1]/(a[1][1]+a[0][1])\n",
    "        rc=a[1][1]/(a[1][1]+a[1][0])\n",
    "        fmera=2*pr*rc/(pr+rc)\n",
    "    scores_m.append(fmera)\n",
    "print(scores_m)"
   ]
  },
  {
   "cell_type": "markdown",
   "metadata": {},
   "source": [
    "Судя по F-мере, лучший параметр максимальной глубины деревьев равен 20"
   ]
  },
  {
   "cell_type": "code",
   "execution_count": 74,
   "metadata": {
    "collapsed": false
   },
   "outputs": [],
   "source": [
    "# Критерий джини помогает нам определить наиболее значимые переменные при классификации\n",
    "importance=rfc.feature_importances_\n",
    "cols = train.columns.values\n",
    "feature_dataframe = pd.DataFrame( {'features': cols,\n",
    "     'Random Forest feature importances': importance,\n",
    "    })"
   ]
  },
  {
   "cell_type": "code",
   "execution_count": 75,
   "metadata": {
    "collapsed": false
   },
   "outputs": [],
   "source": [
    "# отсортируем значимость по убыванию\n",
    "sorted_imp = feature_dataframe.sort_values(['Random Forest feature importances'], ascending=0)\n",
    "sorted_imp.index=range(len(feature_dataframe))"
   ]
  },
  {
   "cell_type": "code",
   "execution_count": 76,
   "metadata": {
    "collapsed": false
   },
   "outputs": [
    {
     "data": {
      "text/html": [
       "<div>\n",
       "<table border=\"1\" class=\"dataframe\">\n",
       "  <thead>\n",
       "    <tr style=\"text-align: right;\">\n",
       "      <th></th>\n",
       "      <th>Random Forest feature importances</th>\n",
       "      <th>features</th>\n",
       "    </tr>\n",
       "  </thead>\n",
       "  <tbody>\n",
       "    <tr>\n",
       "      <th>0</th>\n",
       "      <td>0.121885</td>\n",
       "      <td>dist</td>\n",
       "    </tr>\n",
       "    <tr>\n",
       "      <th>1</th>\n",
       "      <td>0.099762</td>\n",
       "      <td>angle</td>\n",
       "    </tr>\n",
       "    <tr>\n",
       "      <th>2</th>\n",
       "      <td>0.097896</td>\n",
       "      <td>defender_distance</td>\n",
       "    </tr>\n",
       "    <tr>\n",
       "      <th>3</th>\n",
       "      <td>0.097154</td>\n",
       "      <td>shot_clock</td>\n",
       "    </tr>\n",
       "    <tr>\n",
       "      <th>4</th>\n",
       "      <td>0.096431</td>\n",
       "      <td>remaining_time</td>\n",
       "    </tr>\n",
       "    <tr>\n",
       "      <th>5</th>\n",
       "      <td>0.086470</td>\n",
       "      <td>touch_time</td>\n",
       "    </tr>\n",
       "    <tr>\n",
       "      <th>6</th>\n",
       "      <td>0.055579</td>\n",
       "      <td>dribbles</td>\n",
       "    </tr>\n",
       "    <tr>\n",
       "      <th>7</th>\n",
       "      <td>0.046945</td>\n",
       "      <td>action_type_Jump Shot</td>\n",
       "    </tr>\n",
       "    <tr>\n",
       "      <th>8</th>\n",
       "      <td>0.015243</td>\n",
       "      <td>period_3</td>\n",
       "    </tr>\n",
       "    <tr>\n",
       "      <th>9</th>\n",
       "      <td>0.013323</td>\n",
       "      <td>period_1</td>\n",
       "    </tr>\n",
       "    <tr>\n",
       "      <th>10</th>\n",
       "      <td>0.012848</td>\n",
       "      <td>period_2</td>\n",
       "    </tr>\n",
       "    <tr>\n",
       "      <th>11</th>\n",
       "      <td>0.012687</td>\n",
       "      <td>period_4</td>\n",
       "    </tr>\n",
       "    <tr>\n",
       "      <th>12</th>\n",
       "      <td>0.011196</td>\n",
       "      <td>opponent_Houston Rockets</td>\n",
       "    </tr>\n",
       "    <tr>\n",
       "      <th>13</th>\n",
       "      <td>0.010918</td>\n",
       "      <td>opponent_Memphis Grizzlies</td>\n",
       "    </tr>\n",
       "    <tr>\n",
       "      <th>14</th>\n",
       "      <td>0.010451</td>\n",
       "      <td>opponent_New Orleans Pelicans</td>\n",
       "    </tr>\n",
       "    <tr>\n",
       "      <th>15</th>\n",
       "      <td>0.009988</td>\n",
       "      <td>opponent_Cleveland Cavaliers</td>\n",
       "    </tr>\n",
       "    <tr>\n",
       "      <th>16</th>\n",
       "      <td>0.009760</td>\n",
       "      <td>shot_type_3PT Field Goal</td>\n",
       "    </tr>\n",
       "    <tr>\n",
       "      <th>17</th>\n",
       "      <td>0.009562</td>\n",
       "      <td>action_type_Driving Layup Shot</td>\n",
       "    </tr>\n",
       "    <tr>\n",
       "      <th>18</th>\n",
       "      <td>0.009303</td>\n",
       "      <td>action_type_Pullup Jump shot</td>\n",
       "    </tr>\n",
       "    <tr>\n",
       "      <th>19</th>\n",
       "      <td>0.008713</td>\n",
       "      <td>action_type_Layup Shot</td>\n",
       "    </tr>\n",
       "  </tbody>\n",
       "</table>\n",
       "</div>"
      ],
      "text/plain": [
       "    Random Forest feature importances                        features\n",
       "0                            0.121885                            dist\n",
       "1                            0.099762                           angle\n",
       "2                            0.097896               defender_distance\n",
       "3                            0.097154                      shot_clock\n",
       "4                            0.096431                  remaining_time\n",
       "5                            0.086470                      touch_time\n",
       "6                            0.055579                        dribbles\n",
       "7                            0.046945           action_type_Jump Shot\n",
       "8                            0.015243                        period_3\n",
       "9                            0.013323                        period_1\n",
       "10                           0.012848                        period_2\n",
       "11                           0.012687                        period_4\n",
       "12                           0.011196        opponent_Houston Rockets\n",
       "13                           0.010918      opponent_Memphis Grizzlies\n",
       "14                           0.010451   opponent_New Orleans Pelicans\n",
       "15                           0.009988    opponent_Cleveland Cavaliers\n",
       "16                           0.009760        shot_type_3PT Field Goal\n",
       "17                           0.009562  action_type_Driving Layup Shot\n",
       "18                           0.009303    action_type_Pullup Jump shot\n",
       "19                           0.008713          action_type_Layup Shot"
      ]
     },
     "execution_count": 76,
     "metadata": {},
     "output_type": "execute_result"
    }
   ],
   "source": [
    "# первые 20 значимых переменных\n",
    "sorted_imp.head(20)"
   ]
  },
  {
   "cell_type": "markdown",
   "metadata": {},
   "source": [
    "Получилось достаточно интуитивно. Больше всего на определение попадания/промаха влияют: расстояние до кольца, угол броска, оставшееся время в периоде, оставшееся время на атаку и расстояние до ближайшего защитника"
   ]
  },
  {
   "cell_type": "markdown",
   "metadata": {
    "collapsed": true
   },
   "source": [
    "## Введение новых переменных\n",
    "Предположим, что броски зависимы друг от друга, и введем дамми-переменные \"Забил i последних бросков подряд\""
   ]
  },
  {
   "cell_type": "code",
   "execution_count": 77,
   "metadata": {
    "collapsed": true
   },
   "outputs": [],
   "source": [
    "# отсортируем по времени\n",
    "sorted_raw = raw2.sort_values(['espn_game_id', 'period', 'minutes_remaining', 'seconds_remaining'], ascending=[1, 1, 0, 0])\n",
    "sorted_raw.index=range(len(sorted_raw))"
   ]
  },
  {
   "cell_type": "code",
   "execution_count": 78,
   "metadata": {
    "collapsed": false
   },
   "outputs": [],
   "source": [
    "sorted_raw['previous1'] = np.zeros(len(sorted_raw)) \n",
    "\n",
    "for i,row in enumerate(sorted_raw[1:].iterrows()):\n",
    "    if i>0:\n",
    "        if sorted_raw.loc[i,'espn_game_id'] == sorted_raw.loc[i-1,'espn_game_id']:\n",
    "            sorted_raw.loc[i,'previous1'] = sorted_raw.loc[i-1,'shot_made_flag']"
   ]
  },
  {
   "cell_type": "code",
   "execution_count": 79,
   "metadata": {
    "collapsed": false
   },
   "outputs": [],
   "source": [
    "sorted_raw['previous2'] = np.zeros(len(sorted_raw)) \n",
    "\n",
    "for i,row in enumerate(sorted_raw[1:].iterrows()):\n",
    "    if i>1:\n",
    "        if sorted_raw.loc[i,'espn_game_id'] == sorted_raw.loc[i-1,'espn_game_id'] == sorted_raw.loc[i-2,'espn_game_id']:\n",
    "            if sorted_raw.loc[i-1,'shot_made_flag']==sorted_raw.loc[i-2,'shot_made_flag']==1:\n",
    "                sorted_raw.loc[i,'previous2'] = raw.loc[i-1,'shot_made_flag']"
   ]
  },
  {
   "cell_type": "code",
   "execution_count": 80,
   "metadata": {
    "collapsed": false
   },
   "outputs": [],
   "source": [
    "sorted_raw['previous3'] = np.zeros(len(sorted_raw)) \n",
    "\n",
    "for i,row in enumerate(sorted_raw[1:].iterrows()):\n",
    "    if i>2:\n",
    "        if sorted_raw.loc[i,'espn_game_id'] == sorted_raw.loc[i-1,'espn_game_id'] == sorted_raw.loc[i-2,'espn_game_id']== sorted_raw.loc[i-3,'espn_game_id']:\n",
    "            if sorted_raw.loc[i-1,'previous2']==sorted_raw.loc[i,'previous1']==1:\n",
    "                sorted_raw.loc[i,'previous3'] = raw.loc[i-1,'shot_made_flag']"
   ]
  },
  {
   "cell_type": "code",
   "execution_count": 81,
   "metadata": {
    "collapsed": false
   },
   "outputs": [],
   "source": [
    "sorted_raw['previous1']=sorted_raw['previous1'].astype(int)\n",
    "sorted_raw['previous2']=sorted_raw['previous2'].astype(int)\n",
    "sorted_raw['previous3']=sorted_raw['previous3'].astype(int)"
   ]
  },
  {
   "cell_type": "markdown",
   "metadata": {},
   "source": [
    "Теперь почистим выборку, как мы делали это до этого"
   ]
  },
  {
   "cell_type": "code",
   "execution_count": 82,
   "metadata": {
    "collapsed": true
   },
   "outputs": [],
   "source": [
    "sorted_raw['remaining_time'] = sorted_raw['minutes_remaining'] * 60 + sorted_raw['seconds_remaining']\n",
    "# дропаем ненужные переменные\n",
    "todrop = ['name', 'team_name', 'game_date', 'season', 'espn_player_id', 'team_id', \\\n",
    "          'espn_game_id', 'minutes_remaining', 'seconds_remaining', 'shot_distance', 'x', 'y', 'defender_name']\n",
    "\n",
    "for i in todrop:\n",
    "    sorted_raw = sorted_raw.drop(i, 1)\n",
    "\n",
    "# создаем дамми-переменные из категориальных\n",
    "categorical_vars = ['action_type', 'shot_type', 'opponent', 'period']\n",
    "# categorical_vars = ['action_type', 'shot_type', 'opponent', 'period', 'previous1', 'previous2', 'previous3']\n",
    "for i in categorical_vars:\n",
    "    sorted_raw = pd.concat([sorted_raw, pd.get_dummies(sorted_raw[i], prefix=i)], 1)\n",
    "    sorted_raw = sorted_raw.drop(i, 1)\n",
    "# делим выборку на объясняющие переменные и таргетируемую\n",
    "trainn = sorted_raw.drop('shot_made_flag', 1)\n",
    "trainn_y = sorted_raw['shot_made_flag']"
   ]
  },
  {
   "cell_type": "code",
   "execution_count": 126,
   "metadata": {
    "collapsed": false
   },
   "outputs": [
    {
     "name": "stdout",
     "output_type": "stream",
     "text": [
      "0.644194756554 0.666666666667 0.566037735849 0.612244897959\n"
     ]
    }
   ],
   "source": [
    "X_train, X_test, y_train, y_test = train_test_split(trainn, trainn_y, test_size=0.3, random_state=0)\n",
    "rfc = RandomForestClassifier(n_estimators=150, max_depth=20)\n",
    "rfc.fit(X_train, y_train)\n",
    "pred=rfc.predict(X_test)\n",
    "# Найдем самые простые оценки качества модели\n",
    "a=confusion_matrix(y_test, pred)\n",
    "acc=(a[0][0]+a[1][1])/len(y_test)\n",
    "pr=a[1][1]/(a[1][1]+a[0][1])\n",
    "rc=a[1][1]/(a[1][1]+a[1][0])\n",
    "fmera=2*pr*rc/(pr+rc)\n",
    "alg2=[acc, pr, rc, fmera]\n",
    "print(acc, pr, rc, fmera)"
   ]
  },
  {
   "cell_type": "markdown",
   "metadata": {},
   "source": [
    "В целом, показатели улучшились. Неужели введение дополнительных переменных дает лучший результат? Посмотрим, насколько значимы нововведенные параметры"
   ]
  },
  {
   "cell_type": "code",
   "execution_count": 127,
   "metadata": {
    "collapsed": true
   },
   "outputs": [],
   "source": [
    "importance=rfc.feature_importances_\n",
    "cols = trainn.columns.values\n",
    "feature_dataframe = pd.DataFrame( {'features': cols,\n",
    "     'Random Forest feature importances': importance,\n",
    "    })"
   ]
  },
  {
   "cell_type": "code",
   "execution_count": 128,
   "metadata": {
    "collapsed": false
   },
   "outputs": [],
   "source": [
    "sorted_impp = feature_dataframe.sort_values(['Random Forest feature importances'], ascending=0)\n",
    "sorted_impp.index=range(len(feature_dataframe))"
   ]
  },
  {
   "cell_type": "code",
   "execution_count": 129,
   "metadata": {
    "collapsed": false,
    "scrolled": true
   },
   "outputs": [
    {
     "data": {
      "text/html": [
       "<div>\n",
       "<table border=\"1\" class=\"dataframe\">\n",
       "  <thead>\n",
       "    <tr style=\"text-align: right;\">\n",
       "      <th></th>\n",
       "      <th>Random Forest feature importances</th>\n",
       "      <th>features</th>\n",
       "    </tr>\n",
       "  </thead>\n",
       "  <tbody>\n",
       "    <tr>\n",
       "      <th>0</th>\n",
       "      <td>0.114100</td>\n",
       "      <td>dist</td>\n",
       "    </tr>\n",
       "    <tr>\n",
       "      <th>1</th>\n",
       "      <td>0.100171</td>\n",
       "      <td>remaining_time</td>\n",
       "    </tr>\n",
       "    <tr>\n",
       "      <th>2</th>\n",
       "      <td>0.096951</td>\n",
       "      <td>angle</td>\n",
       "    </tr>\n",
       "    <tr>\n",
       "      <th>3</th>\n",
       "      <td>0.086932</td>\n",
       "      <td>shot_clock</td>\n",
       "    </tr>\n",
       "    <tr>\n",
       "      <th>4</th>\n",
       "      <td>0.085949</td>\n",
       "      <td>defender_distance</td>\n",
       "    </tr>\n",
       "    <tr>\n",
       "      <th>5</th>\n",
       "      <td>0.084811</td>\n",
       "      <td>touch_time</td>\n",
       "    </tr>\n",
       "    <tr>\n",
       "      <th>6</th>\n",
       "      <td>0.054195</td>\n",
       "      <td>dribbles</td>\n",
       "    </tr>\n",
       "    <tr>\n",
       "      <th>7</th>\n",
       "      <td>0.037231</td>\n",
       "      <td>action_type_Jump Shot</td>\n",
       "    </tr>\n",
       "    <tr>\n",
       "      <th>8</th>\n",
       "      <td>0.016908</td>\n",
       "      <td>previous1</td>\n",
       "    </tr>\n",
       "    <tr>\n",
       "      <th>9</th>\n",
       "      <td>0.015360</td>\n",
       "      <td>period_3</td>\n",
       "    </tr>\n",
       "    <tr>\n",
       "      <th>10</th>\n",
       "      <td>0.013871</td>\n",
       "      <td>action_type_Driving Layup Shot</td>\n",
       "    </tr>\n",
       "    <tr>\n",
       "      <th>11</th>\n",
       "      <td>0.013128</td>\n",
       "      <td>period_4</td>\n",
       "    </tr>\n",
       "    <tr>\n",
       "      <th>12</th>\n",
       "      <td>0.012616</td>\n",
       "      <td>period_1</td>\n",
       "    </tr>\n",
       "    <tr>\n",
       "      <th>13</th>\n",
       "      <td>0.012160</td>\n",
       "      <td>period_2</td>\n",
       "    </tr>\n",
       "    <tr>\n",
       "      <th>14</th>\n",
       "      <td>0.010513</td>\n",
       "      <td>opponent_Houston Rockets</td>\n",
       "    </tr>\n",
       "    <tr>\n",
       "      <th>15</th>\n",
       "      <td>0.010156</td>\n",
       "      <td>previous2</td>\n",
       "    </tr>\n",
       "    <tr>\n",
       "      <th>16</th>\n",
       "      <td>0.009920</td>\n",
       "      <td>opponent_New Orleans Pelicans</td>\n",
       "    </tr>\n",
       "    <tr>\n",
       "      <th>17</th>\n",
       "      <td>0.009892</td>\n",
       "      <td>opponent_Memphis Grizzlies</td>\n",
       "    </tr>\n",
       "    <tr>\n",
       "      <th>18</th>\n",
       "      <td>0.009631</td>\n",
       "      <td>opponent_Cleveland Cavaliers</td>\n",
       "    </tr>\n",
       "    <tr>\n",
       "      <th>19</th>\n",
       "      <td>0.009425</td>\n",
       "      <td>shot_type_2PT Field Goal</td>\n",
       "    </tr>\n",
       "  </tbody>\n",
       "</table>\n",
       "</div>"
      ],
      "text/plain": [
       "    Random Forest feature importances                        features\n",
       "0                            0.114100                            dist\n",
       "1                            0.100171                  remaining_time\n",
       "2                            0.096951                           angle\n",
       "3                            0.086932                      shot_clock\n",
       "4                            0.085949               defender_distance\n",
       "5                            0.084811                      touch_time\n",
       "6                            0.054195                        dribbles\n",
       "7                            0.037231           action_type_Jump Shot\n",
       "8                            0.016908                       previous1\n",
       "9                            0.015360                        period_3\n",
       "10                           0.013871  action_type_Driving Layup Shot\n",
       "11                           0.013128                        period_4\n",
       "12                           0.012616                        period_1\n",
       "13                           0.012160                        period_2\n",
       "14                           0.010513        opponent_Houston Rockets\n",
       "15                           0.010156                       previous2\n",
       "16                           0.009920   opponent_New Orleans Pelicans\n",
       "17                           0.009892      opponent_Memphis Grizzlies\n",
       "18                           0.009631    opponent_Cleveland Cavaliers\n",
       "19                           0.009425        shot_type_2PT Field Goal"
      ]
     },
     "execution_count": 129,
     "metadata": {},
     "output_type": "execute_result"
    }
   ],
   "source": [
    "sorted_impp.head(20)"
   ]
  },
  {
   "cell_type": "markdown",
   "metadata": {},
   "source": [
    "Прогресс налицо! Для случайного леса параметры \"забил предыдущий\" и \"забил два предыдущих\" стоят на 9 и 17 местах по важности. К сожалению, интерпретировать меру важности сложно. Нужно проверить на других алгоритмах\n",
    "\n",
    "**Пометка:** после увеличения максимальной глубины важность \"забил два предыдущих\" упала. Почему?"
   ]
  },
  {
   "cell_type": "code",
   "execution_count": 133,
   "metadata": {
    "collapsed": false
   },
   "outputs": [
    {
     "data": {
      "text/plain": [
       "array([ 0.0505618 ,  0.0224359 ,  0.08228322,  0.05966758])"
      ]
     },
     "execution_count": 133,
     "metadata": {},
     "output_type": "execute_result"
    }
   ],
   "source": [
    "# разница между acc, pr, rc, fmera\n",
    "np.array(alg2)-np.array(alg1)"
   ]
  },
  {
   "cell_type": "markdown",
   "metadata": {},
   "source": [
    "Количество правильных ответов растет на 5%, точность на 2%, полнота на 8% и F-мера на 6%"
   ]
  },
  {
   "cell_type": "code",
   "execution_count": null,
   "metadata": {
    "collapsed": true
   },
   "outputs": [],
   "source": []
  }
 ],
 "metadata": {
  "anaconda-cloud": {},
  "kernelspec": {
   "display_name": "Python [default]",
   "language": "python",
   "name": "python3"
  },
  "language_info": {
   "codemirror_mode": {
    "name": "ipython",
    "version": 3
   },
   "file_extension": ".py",
   "mimetype": "text/x-python",
   "name": "python",
   "nbconvert_exporter": "python",
   "pygments_lexer": "ipython3",
   "version": "3.5.2"
  }
 },
 "nbformat": 4,
 "nbformat_minor": 1
}
